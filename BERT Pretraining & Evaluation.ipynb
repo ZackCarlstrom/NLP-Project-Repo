{
 "cells": [
  {
   "cell_type": "code",
   "execution_count": 14,
   "id": "f7c3a8fc",
   "metadata": {},
   "outputs": [
    {
     "name": "stdout",
     "output_type": "stream",
     "text": [
      "Collecting transformers==4.51.1\n",
      "  Downloading transformers-4.51.1-py3-none-any.whl (10.4 MB)\n",
      "     ---------------------------------------- 10.4/10.4 MB 4.7 MB/s eta 0:00:00\n",
      "Requirement already satisfied: filelock in c:\\users\\zackc\\anaconda3\\lib\\site-packages (from transformers==4.51.1) (3.6.0)\n",
      "Requirement already satisfied: tokenizers<0.22,>=0.21 in c:\\users\\zackc\\anaconda3\\lib\\site-packages (from transformers==4.51.1) (0.21.1)\n",
      "Requirement already satisfied: numpy>=1.17 in c:\\users\\zackc\\anaconda3\\lib\\site-packages (from transformers==4.51.1) (1.26.4)\n",
      "Requirement already satisfied: pyyaml>=5.1 in c:\\users\\zackc\\anaconda3\\lib\\site-packages (from transformers==4.51.1) (6.0)\n",
      "Requirement already satisfied: tqdm>=4.27 in c:\\users\\zackc\\anaconda3\\lib\\site-packages (from transformers==4.51.1) (4.67.1)\n",
      "Requirement already satisfied: safetensors>=0.4.3 in c:\\users\\zackc\\anaconda3\\lib\\site-packages (from transformers==4.51.1) (0.5.3)\n",
      "Requirement already satisfied: packaging>=20.0 in c:\\users\\zackc\\anaconda3\\lib\\site-packages (from transformers==4.51.1) (21.3)\n",
      "Requirement already satisfied: requests in c:\\users\\zackc\\anaconda3\\lib\\site-packages (from transformers==4.51.1) (2.32.3)\n",
      "Requirement already satisfied: huggingface-hub<1.0,>=0.30.0 in c:\\users\\zackc\\anaconda3\\lib\\site-packages (from transformers==4.51.1) (0.30.2)\n",
      "Requirement already satisfied: regex!=2019.12.17 in c:\\users\\zackc\\anaconda3\\lib\\site-packages (from transformers==4.51.1) (2022.7.9)\n",
      "Requirement already satisfied: typing-extensions>=3.7.4.3 in c:\\users\\zackc\\anaconda3\\lib\\site-packages (from huggingface-hub<1.0,>=0.30.0->transformers==4.51.1) (4.13.2)\n",
      "Requirement already satisfied: fsspec>=2023.5.0 in c:\\users\\zackc\\anaconda3\\lib\\site-packages (from huggingface-hub<1.0,>=0.30.0->transformers==4.51.1) (2024.3.1)\n",
      "Requirement already satisfied: pyparsing!=3.0.5,>=2.0.2 in c:\\users\\zackc\\anaconda3\\lib\\site-packages (from packaging>=20.0->transformers==4.51.1) (3.0.9)\n",
      "Requirement already satisfied: colorama in c:\\users\\zackc\\anaconda3\\lib\\site-packages (from tqdm>=4.27->transformers==4.51.1) (0.4.5)\n",
      "Requirement already satisfied: certifi>=2017.4.17 in c:\\users\\zackc\\anaconda3\\lib\\site-packages (from requests->transformers==4.51.1) (2022.9.14)\n",
      "Requirement already satisfied: urllib3<3,>=1.21.1 in c:\\users\\zackc\\anaconda3\\lib\\site-packages (from requests->transformers==4.51.1) (1.26.11)\n",
      "Requirement already satisfied: charset-normalizer<4,>=2 in c:\\users\\zackc\\anaconda3\\lib\\site-packages (from requests->transformers==4.51.1) (2.0.4)\n",
      "Requirement already satisfied: idna<4,>=2.5 in c:\\users\\zackc\\anaconda3\\lib\\site-packages (from requests->transformers==4.51.1) (3.3)\n",
      "Installing collected packages: transformers\n",
      "  Attempting uninstall: transformers\n",
      "    Found existing installation: transformers 4.51.3\n",
      "    Uninstalling transformers-4.51.3:\n",
      "      Successfully uninstalled transformers-4.51.3\n",
      "Successfully installed transformers-4.51.1\n"
     ]
    }
   ],
   "source": [
    "!pip install transformers==4.51.1\n"
   ]
  },
  {
   "cell_type": "code",
   "execution_count": 15,
   "id": "2af33367",
   "metadata": {},
   "outputs": [
    {
     "name": "stdout",
     "output_type": "stream",
     "text": [
      "Requirement already satisfied: datasets==3.5.0 in c:\\users\\zackc\\anaconda3\\lib\\site-packages (3.5.0)\n",
      "Requirement already satisfied: pyarrow>=15.0.0 in c:\\users\\zackc\\anaconda3\\lib\\site-packages (from datasets==3.5.0) (19.0.1)\n",
      "Requirement already satisfied: pandas in c:\\users\\zackc\\anaconda3\\lib\\site-packages (from datasets==3.5.0) (1.4.4)\n",
      "Requirement already satisfied: multiprocess<0.70.17 in c:\\users\\zackc\\anaconda3\\lib\\site-packages (from datasets==3.5.0) (0.70.16)\n",
      "Requirement already satisfied: huggingface-hub>=0.24.0 in c:\\users\\zackc\\anaconda3\\lib\\site-packages (from datasets==3.5.0) (0.30.2)\n",
      "Requirement already satisfied: aiohttp in c:\\users\\zackc\\anaconda3\\lib\\site-packages (from datasets==3.5.0) (3.11.16)\n",
      "Requirement already satisfied: fsspec[http]<=2024.12.0,>=2023.1.0 in c:\\users\\zackc\\anaconda3\\lib\\site-packages (from datasets==3.5.0) (2024.3.1)\n",
      "Requirement already satisfied: requests>=2.32.2 in c:\\users\\zackc\\anaconda3\\lib\\site-packages (from datasets==3.5.0) (2.32.3)\n",
      "Requirement already satisfied: xxhash in c:\\users\\zackc\\anaconda3\\lib\\site-packages (from datasets==3.5.0) (3.5.0)\n",
      "Requirement already satisfied: pyyaml>=5.1 in c:\\users\\zackc\\anaconda3\\lib\\site-packages (from datasets==3.5.0) (6.0)\n",
      "Requirement already satisfied: packaging in c:\\users\\zackc\\anaconda3\\lib\\site-packages (from datasets==3.5.0) (21.3)\n",
      "Requirement already satisfied: filelock in c:\\users\\zackc\\anaconda3\\lib\\site-packages (from datasets==3.5.0) (3.6.0)\n",
      "Requirement already satisfied: dill<0.3.9,>=0.3.0 in c:\\users\\zackc\\anaconda3\\lib\\site-packages (from datasets==3.5.0) (0.3.8)\n",
      "Requirement already satisfied: numpy>=1.17 in c:\\users\\zackc\\anaconda3\\lib\\site-packages (from datasets==3.5.0) (1.26.4)\n",
      "Requirement already satisfied: tqdm>=4.66.3 in c:\\users\\zackc\\anaconda3\\lib\\site-packages (from datasets==3.5.0) (4.67.1)\n",
      "Requirement already satisfied: propcache>=0.2.0 in c:\\users\\zackc\\anaconda3\\lib\\site-packages (from aiohttp->datasets==3.5.0) (0.3.1)\n",
      "Requirement already satisfied: frozenlist>=1.1.1 in c:\\users\\zackc\\anaconda3\\lib\\site-packages (from aiohttp->datasets==3.5.0) (1.6.0)\n",
      "Requirement already satisfied: aiosignal>=1.1.2 in c:\\users\\zackc\\anaconda3\\lib\\site-packages (from aiohttp->datasets==3.5.0) (1.3.2)\n",
      "Requirement already satisfied: attrs>=17.3.0 in c:\\users\\zackc\\anaconda3\\lib\\site-packages (from aiohttp->datasets==3.5.0) (21.4.0)\n",
      "Requirement already satisfied: multidict<7.0,>=4.5 in c:\\users\\zackc\\anaconda3\\lib\\site-packages (from aiohttp->datasets==3.5.0) (6.4.3)\n",
      "Requirement already satisfied: yarl<2.0,>=1.17.0 in c:\\users\\zackc\\anaconda3\\lib\\site-packages (from aiohttp->datasets==3.5.0) (1.20.0)\n",
      "Requirement already satisfied: async-timeout<6.0,>=4.0 in c:\\users\\zackc\\anaconda3\\lib\\site-packages (from aiohttp->datasets==3.5.0) (5.0.1)\n",
      "Requirement already satisfied: aiohappyeyeballs>=2.3.0 in c:\\users\\zackc\\anaconda3\\lib\\site-packages (from aiohttp->datasets==3.5.0) (2.6.1)\n",
      "Requirement already satisfied: typing-extensions>=3.7.4.3 in c:\\users\\zackc\\anaconda3\\lib\\site-packages (from huggingface-hub>=0.24.0->datasets==3.5.0) (4.13.2)\n",
      "Requirement already satisfied: pyparsing!=3.0.5,>=2.0.2 in c:\\users\\zackc\\anaconda3\\lib\\site-packages (from packaging->datasets==3.5.0) (3.0.9)\n",
      "Requirement already satisfied: idna<4,>=2.5 in c:\\users\\zackc\\anaconda3\\lib\\site-packages (from requests>=2.32.2->datasets==3.5.0) (3.3)\n",
      "Requirement already satisfied: certifi>=2017.4.17 in c:\\users\\zackc\\anaconda3\\lib\\site-packages (from requests>=2.32.2->datasets==3.5.0) (2022.9.14)\n",
      "Requirement already satisfied: charset-normalizer<4,>=2 in c:\\users\\zackc\\anaconda3\\lib\\site-packages (from requests>=2.32.2->datasets==3.5.0) (2.0.4)\n",
      "Requirement already satisfied: urllib3<3,>=1.21.1 in c:\\users\\zackc\\anaconda3\\lib\\site-packages (from requests>=2.32.2->datasets==3.5.0) (1.26.11)\n",
      "Requirement already satisfied: colorama in c:\\users\\zackc\\anaconda3\\lib\\site-packages (from tqdm>=4.66.3->datasets==3.5.0) (0.4.5)\n",
      "Requirement already satisfied: python-dateutil>=2.8.1 in c:\\users\\zackc\\anaconda3\\lib\\site-packages (from pandas->datasets==3.5.0) (2.8.2)\n",
      "Requirement already satisfied: pytz>=2020.1 in c:\\users\\zackc\\anaconda3\\lib\\site-packages (from pandas->datasets==3.5.0) (2022.1)\n",
      "Requirement already satisfied: six>=1.5 in c:\\users\\zackc\\anaconda3\\lib\\site-packages (from python-dateutil>=2.8.1->pandas->datasets==3.5.0) (1.16.0)\n"
     ]
    }
   ],
   "source": [
    "!pip install datasets==3.5.0\n"
   ]
  },
  {
   "cell_type": "code",
   "execution_count": 16,
   "id": "5d84df0b",
   "metadata": {},
   "outputs": [
    {
     "name": "stdout",
     "output_type": "stream",
     "text": [
      "Requirement already satisfied: evaluate==0.4.3 in c:\\users\\zackc\\anaconda3\\lib\\site-packages (0.4.3)\n",
      "Requirement already satisfied: dill in c:\\users\\zackc\\anaconda3\\lib\\site-packages (from evaluate==0.4.3) (0.3.8)\n",
      "Requirement already satisfied: huggingface-hub>=0.7.0 in c:\\users\\zackc\\anaconda3\\lib\\site-packages (from evaluate==0.4.3) (0.30.2)\n",
      "Requirement already satisfied: requests>=2.19.0 in c:\\users\\zackc\\anaconda3\\lib\\site-packages (from evaluate==0.4.3) (2.32.3)\n",
      "Requirement already satisfied: fsspec[http]>=2021.05.0 in c:\\users\\zackc\\anaconda3\\lib\\site-packages (from evaluate==0.4.3) (2024.3.1)\n",
      "Requirement already satisfied: datasets>=2.0.0 in c:\\users\\zackc\\anaconda3\\lib\\site-packages (from evaluate==0.4.3) (3.5.0)\n",
      "Requirement already satisfied: tqdm>=4.62.1 in c:\\users\\zackc\\anaconda3\\lib\\site-packages (from evaluate==0.4.3) (4.67.1)\n",
      "Requirement already satisfied: xxhash in c:\\users\\zackc\\anaconda3\\lib\\site-packages (from evaluate==0.4.3) (3.5.0)\n",
      "Requirement already satisfied: pandas in c:\\users\\zackc\\anaconda3\\lib\\site-packages (from evaluate==0.4.3) (1.4.4)\n",
      "Requirement already satisfied: multiprocess in c:\\users\\zackc\\anaconda3\\lib\\site-packages (from evaluate==0.4.3) (0.70.16)\n",
      "Requirement already satisfied: packaging in c:\\users\\zackc\\anaconda3\\lib\\site-packages (from evaluate==0.4.3) (21.3)\n",
      "Requirement already satisfied: numpy>=1.17 in c:\\users\\zackc\\anaconda3\\lib\\site-packages (from evaluate==0.4.3) (1.26.4)\n",
      "Requirement already satisfied: filelock in c:\\users\\zackc\\anaconda3\\lib\\site-packages (from datasets>=2.0.0->evaluate==0.4.3) (3.6.0)\n",
      "Requirement already satisfied: pyyaml>=5.1 in c:\\users\\zackc\\anaconda3\\lib\\site-packages (from datasets>=2.0.0->evaluate==0.4.3) (6.0)\n",
      "Requirement already satisfied: aiohttp in c:\\users\\zackc\\anaconda3\\lib\\site-packages (from datasets>=2.0.0->evaluate==0.4.3) (3.11.16)\n",
      "Requirement already satisfied: pyarrow>=15.0.0 in c:\\users\\zackc\\anaconda3\\lib\\site-packages (from datasets>=2.0.0->evaluate==0.4.3) (19.0.1)\n",
      "Requirement already satisfied: typing-extensions>=3.7.4.3 in c:\\users\\zackc\\anaconda3\\lib\\site-packages (from huggingface-hub>=0.7.0->evaluate==0.4.3) (4.13.2)\n",
      "Requirement already satisfied: pyparsing!=3.0.5,>=2.0.2 in c:\\users\\zackc\\anaconda3\\lib\\site-packages (from packaging->evaluate==0.4.3) (3.0.9)\n",
      "Requirement already satisfied: urllib3<3,>=1.21.1 in c:\\users\\zackc\\anaconda3\\lib\\site-packages (from requests>=2.19.0->evaluate==0.4.3) (1.26.11)\n",
      "Requirement already satisfied: charset-normalizer<4,>=2 in c:\\users\\zackc\\anaconda3\\lib\\site-packages (from requests>=2.19.0->evaluate==0.4.3) (2.0.4)\n",
      "Requirement already satisfied: certifi>=2017.4.17 in c:\\users\\zackc\\anaconda3\\lib\\site-packages (from requests>=2.19.0->evaluate==0.4.3) (2022.9.14)\n",
      "Requirement already satisfied: idna<4,>=2.5 in c:\\users\\zackc\\anaconda3\\lib\\site-packages (from requests>=2.19.0->evaluate==0.4.3) (3.3)\n",
      "Requirement already satisfied: colorama in c:\\users\\zackc\\anaconda3\\lib\\site-packages (from tqdm>=4.62.1->evaluate==0.4.3) (0.4.5)\n",
      "Requirement already satisfied: python-dateutil>=2.8.1 in c:\\users\\zackc\\anaconda3\\lib\\site-packages (from pandas->evaluate==0.4.3) (2.8.2)\n",
      "Requirement already satisfied: pytz>=2020.1 in c:\\users\\zackc\\anaconda3\\lib\\site-packages (from pandas->evaluate==0.4.3) (2022.1)\n",
      "Requirement already satisfied: frozenlist>=1.1.1 in c:\\users\\zackc\\anaconda3\\lib\\site-packages (from aiohttp->datasets>=2.0.0->evaluate==0.4.3) (1.6.0)\n",
      "Requirement already satisfied: multidict<7.0,>=4.5 in c:\\users\\zackc\\anaconda3\\lib\\site-packages (from aiohttp->datasets>=2.0.0->evaluate==0.4.3) (6.4.3)\n",
      "Requirement already satisfied: async-timeout<6.0,>=4.0 in c:\\users\\zackc\\anaconda3\\lib\\site-packages (from aiohttp->datasets>=2.0.0->evaluate==0.4.3) (5.0.1)\n",
      "Requirement already satisfied: aiosignal>=1.1.2 in c:\\users\\zackc\\anaconda3\\lib\\site-packages (from aiohttp->datasets>=2.0.0->evaluate==0.4.3) (1.3.2)\n",
      "Requirement already satisfied: propcache>=0.2.0 in c:\\users\\zackc\\anaconda3\\lib\\site-packages (from aiohttp->datasets>=2.0.0->evaluate==0.4.3) (0.3.1)\n",
      "Requirement already satisfied: aiohappyeyeballs>=2.3.0 in c:\\users\\zackc\\anaconda3\\lib\\site-packages (from aiohttp->datasets>=2.0.0->evaluate==0.4.3) (2.6.1)\n",
      "Requirement already satisfied: attrs>=17.3.0 in c:\\users\\zackc\\anaconda3\\lib\\site-packages (from aiohttp->datasets>=2.0.0->evaluate==0.4.3) (21.4.0)\n",
      "Requirement already satisfied: yarl<2.0,>=1.17.0 in c:\\users\\zackc\\anaconda3\\lib\\site-packages (from aiohttp->datasets>=2.0.0->evaluate==0.4.3) (1.20.0)\n",
      "Requirement already satisfied: six>=1.5 in c:\\users\\zackc\\anaconda3\\lib\\site-packages (from python-dateutil>=2.8.1->pandas->evaluate==0.4.3) (1.16.0)\n"
     ]
    }
   ],
   "source": [
    "!pip install evaluate==0.4.3"
   ]
  },
  {
   "cell_type": "code",
   "execution_count": 17,
   "id": "0b1e0bb1",
   "metadata": {},
   "outputs": [
    {
     "name": "stdout",
     "output_type": "stream",
     "text": [
      "env: WANDB_DISABLED=true\n"
     ]
    }
   ],
   "source": [
    "# Imports\n",
    "\n",
    "import datasets\n",
    "from datasets import Dataset\n",
    "import transformers\n",
    "from transformers import (\n",
    "    AutoTokenizer,\n",
    "    AutoModelForSequenceClassification,\n",
    "    TrainingArguments,\n",
    "    Trainer\n",
    ")\n",
    "import numpy as np\n",
    "import sklearn\n",
    "from sklearn.metrics import accuracy_score, f1_score\n",
    "import torch\n",
    "import evaluate\n",
    "import pandas as pd\n",
    "\n",
    "%env WANDB_DISABLED=true\n",
    "\n",
    "# If libraries aren't found, install them like cell above"
   ]
  },
  {
   "cell_type": "code",
   "execution_count": 18,
   "id": "9e0e78b4",
   "metadata": {},
   "outputs": [
    {
     "name": "stdout",
     "output_type": "stream",
     "text": [
      "Transformers version: 4.51.3\n",
      "Datasets version: 3.5.0\n",
      "PyTorch version: 2.6.0+cu118\n",
      "scikit-learn version: 1.0.2\n",
      "Evaluate version: 0.4.3\n",
      "Pandas version: 1.4.4\n",
      "NumPy version: 1.21.5\n"
     ]
    }
   ],
   "source": [
    "# Library Versions\n",
    "print(\"Transformers version:\", transformers.__version__)\n",
    "print(\"Datasets version:\", datasets.__version__)\n",
    "print(\"PyTorch version:\", torch.__version__)\n",
    "print(\"scikit-learn version:\", sklearn.__version__)\n",
    "print(\"Evaluate version:\", evaluate.__version__)\n",
    "print(\"Pandas version:\", pd.__version__)\n",
    "print(\"NumPy version:\", np.__version__)\n"
   ]
  },
  {
   "cell_type": "code",
   "execution_count": 19,
   "id": "37cf99b6",
   "metadata": {},
   "outputs": [],
   "source": [
    "# Read in 40,000 review balanced dataset for regions\n",
    "dfSmall = pd.read_csv(\"C:\\\\Users\\\\zackc\\\\Desktop\\\\NLP Project\\\\balanced_reviews40000cased.csv\")"
   ]
  },
  {
   "cell_type": "code",
   "execution_count": 20,
   "id": "db034345",
   "metadata": {},
   "outputs": [
    {
     "name": "stdout",
     "output_type": "stream",
     "text": [
      "                                                text   region merged_region  \\\n",
      "0  Ate here on 7/22/17 at 11:30 AM.Only one emplo...  Midwest          West   \n",
      "1  I come here for the crab legs. Seriously! $7.9...  Midwest          West   \n",
      "2  Love this place! You get what you pay for with...  Midwest          West   \n",
      "3  So much fun! A fantastically unique experience...  Midwest          West   \n",
      "4  Dr. Mike reached out to me, and was very kind ...  Midwest          West   \n",
      "\n",
      "   label  \n",
      "0      0  \n",
      "1      0  \n",
      "2      0  \n",
      "3      0  \n",
      "4      0  \n",
      "                                                text     region merged_region  \\\n",
      "0  Dr. Bream is an amazing doctor! I highly recom...       West          West   \n",
      "1  Fantastic place! Great wine and liquor selecti...  Northeast          East   \n",
      "2  BLUF: I'd go back if I were in the area. Glad ...      South          East   \n",
      "3  I can't really top what others have said. This...    Midwest          West   \n",
      "4  I have to echo all the bad reviews that have a...      South          East   \n",
      "\n",
      "   label  \n",
      "0      3  \n",
      "1      1  \n",
      "2      2  \n",
      "3      0  \n",
      "4      2  \n"
     ]
    }
   ],
   "source": [
    "# Replace whitespace characters with a single space and remove trailing whitespace\n",
    "dfSmall[\"text\"] = dfSmall[\"text\"].str.replace(r'\\s+', ' ', regex=True).str.strip()\n",
    "\n",
    "# Mappings for labels to ids and id to labels\n",
    "# Needed for BERT fine-tuning and evaluation, model expects numeric labels\n",
    "label2id = {\n",
    "    'Midwest': 0,\n",
    "    'Northeast': 1,\n",
    "    'South': 2,\n",
    "    'West': 3\n",
    "}\n",
    "\n",
    "id2label = {\n",
    "    0: 'Midwest',\n",
    "    1: 'Northeast',\n",
    "    2: 'South',\n",
    "    3: 'West'\n",
    "}\n",
    "\n",
    "dfSmall[\"label\"] = dfSmall[\"region\"].map(label2id)\n",
    "\n",
    "# Sanity Check\n",
    "print(dfSmall.head())\n",
    "\n",
    "# Shuffle Data\n",
    "dfSmall = dfSmall.sample(frac=1, random_state=42).reset_index(drop=True)\n",
    "\n",
    "# Sanity Check\n",
    "print(dfSmall.head())\n",
    "\n"
   ]
  },
  {
   "cell_type": "code",
   "execution_count": 21,
   "id": "2f5e569e",
   "metadata": {},
   "outputs": [
    {
     "name": "stdout",
     "output_type": "stream",
     "text": [
      "env: WANDB_DISABLED=true\n"
     ]
    },
    {
     "data": {
      "application/vnd.jupyter.widget-view+json": {
       "model_id": "4f4758c062794a4e9536db72d47f4fb1",
       "version_major": 2,
       "version_minor": 0
      },
      "text/plain": [
       "Map:   0%|          | 0/40000 [00:00<?, ? examples/s]"
      ]
     },
     "metadata": {},
     "output_type": "display_data"
    },
    {
     "name": "stderr",
     "output_type": "stream",
     "text": [
      "Some weights of BertForSequenceClassification were not initialized from the model checkpoint at bert-base-uncased and are newly initialized: ['classifier.bias', 'classifier.weight']\n",
      "You should probably TRAIN this model on a down-stream task to be able to use it for predictions and inference.\n",
      "C:\\Users\\zackc\\AppData\\Local\\Temp\\ipykernel_18824\\3731954337.py:66: FutureWarning: `tokenizer` is deprecated and will be removed in version 5.0.0 for `Trainer.__init__`. Use `processing_class` instead.\n",
      "  trainer = Trainer(\n",
      "C:\\Users\\zackc\\anaconda3\\lib\\site-packages\\transformers\\utils\\generic.py:271: FutureWarning: The input object of type 'Tensor' is an array-like implementing one of the corresponding protocols (`__array__`, `__array_interface__` or `__array_struct__`); but not a sequence (or 0-D). In the future, this object will be coerced as if it was first converted using `np.array(obj)`. To retain the old behaviour, you have to either modify the type 'Tensor', or assign to an empty array created with `np.empty(correct_shape, dtype=object)`.\n",
      "  arr = np.array(obj)\n",
      "C:\\Users\\zackc\\anaconda3\\lib\\site-packages\\transformers\\utils\\generic.py:271: VisibleDeprecationWarning: Creating an ndarray from ragged nested sequences (which is a list-or-tuple of lists-or-tuples-or ndarrays with different lengths or shapes) is deprecated. If you meant to do this, you must specify 'dtype=object' when creating the ndarray.\n",
      "  arr = np.array(obj)\n"
     ]
    },
    {
     "data": {
      "text/html": [
       "\n",
       "    <div>\n",
       "      \n",
       "      <progress value='37' max='11250' style='width:300px; height:20px; vertical-align: middle;'></progress>\n",
       "      [   37/11250 04:44 < 25:20:08, 0.12 it/s, Epoch 0.02/5]\n",
       "    </div>\n",
       "    <table border=\"1\" class=\"dataframe\">\n",
       "  <thead>\n",
       " <tr style=\"text-align: left;\">\n",
       "      <th>Step</th>\n",
       "      <th>Training Loss</th>\n",
       "      <th>Validation Loss</th>\n",
       "    </tr>\n",
       "  </thead>\n",
       "  <tbody>\n",
       "  </tbody>\n",
       "</table><p>"
      ],
      "text/plain": [
       "<IPython.core.display.HTML object>"
      ]
     },
     "metadata": {},
     "output_type": "display_data"
    },
    {
     "ename": "KeyboardInterrupt",
     "evalue": "",
     "output_type": "error",
     "traceback": [
      "\u001b[1;31m---------------------------------------------------------------------------\u001b[0m",
      "\u001b[1;31mKeyboardInterrupt\u001b[0m                         Traceback (most recent call last)",
      "\u001b[1;32m~\\AppData\\Local\\Temp\\ipykernel_18824\\3731954337.py\u001b[0m in \u001b[0;36m<module>\u001b[1;34m\u001b[0m\n\u001b[0;32m     74\u001b[0m \u001b[1;33m\u001b[0m\u001b[0m\n\u001b[0;32m     75\u001b[0m \u001b[1;33m\u001b[0m\u001b[0m\n\u001b[1;32m---> 76\u001b[1;33m \u001b[0mtrainer\u001b[0m\u001b[1;33m.\u001b[0m\u001b[0mtrain\u001b[0m\u001b[1;33m(\u001b[0m\u001b[1;33m)\u001b[0m\u001b[1;33m\u001b[0m\u001b[1;33m\u001b[0m\u001b[0m\n\u001b[0m\u001b[0;32m     77\u001b[0m \u001b[1;33m\u001b[0m\u001b[0m\n\u001b[0;32m     78\u001b[0m \u001b[1;31m#  Final eval\u001b[0m\u001b[1;33m\u001b[0m\u001b[1;33m\u001b[0m\u001b[0m\n",
      "\u001b[1;32m~\\anaconda3\\lib\\site-packages\\transformers\\trainer.py\u001b[0m in \u001b[0;36mtrain\u001b[1;34m(self, resume_from_checkpoint, trial, ignore_keys_for_eval, **kwargs)\u001b[0m\n\u001b[0;32m   2243\u001b[0m                 \u001b[0mhf_hub_utils\u001b[0m\u001b[1;33m.\u001b[0m\u001b[0menable_progress_bars\u001b[0m\u001b[1;33m(\u001b[0m\u001b[1;33m)\u001b[0m\u001b[1;33m\u001b[0m\u001b[1;33m\u001b[0m\u001b[0m\n\u001b[0;32m   2244\u001b[0m         \u001b[1;32melse\u001b[0m\u001b[1;33m:\u001b[0m\u001b[1;33m\u001b[0m\u001b[1;33m\u001b[0m\u001b[0m\n\u001b[1;32m-> 2245\u001b[1;33m             return inner_training_loop(\n\u001b[0m\u001b[0;32m   2246\u001b[0m                 \u001b[0margs\u001b[0m\u001b[1;33m=\u001b[0m\u001b[0margs\u001b[0m\u001b[1;33m,\u001b[0m\u001b[1;33m\u001b[0m\u001b[1;33m\u001b[0m\u001b[0m\n\u001b[0;32m   2247\u001b[0m                 \u001b[0mresume_from_checkpoint\u001b[0m\u001b[1;33m=\u001b[0m\u001b[0mresume_from_checkpoint\u001b[0m\u001b[1;33m,\u001b[0m\u001b[1;33m\u001b[0m\u001b[1;33m\u001b[0m\u001b[0m\n",
      "\u001b[1;32m~\\anaconda3\\lib\\site-packages\\transformers\\trainer.py\u001b[0m in \u001b[0;36m_inner_training_loop\u001b[1;34m(self, batch_size, args, resume_from_checkpoint, trial, ignore_keys_for_eval)\u001b[0m\n\u001b[0;32m   2558\u001b[0m                     )\n\u001b[0;32m   2559\u001b[0m                     \u001b[1;32mwith\u001b[0m \u001b[0mcontext\u001b[0m\u001b[1;33m(\u001b[0m\u001b[1;33m)\u001b[0m\u001b[1;33m:\u001b[0m\u001b[1;33m\u001b[0m\u001b[1;33m\u001b[0m\u001b[0m\n\u001b[1;32m-> 2560\u001b[1;33m                         \u001b[0mtr_loss_step\u001b[0m \u001b[1;33m=\u001b[0m \u001b[0mself\u001b[0m\u001b[1;33m.\u001b[0m\u001b[0mtraining_step\u001b[0m\u001b[1;33m(\u001b[0m\u001b[0mmodel\u001b[0m\u001b[1;33m,\u001b[0m \u001b[0minputs\u001b[0m\u001b[1;33m,\u001b[0m \u001b[0mnum_items_in_batch\u001b[0m\u001b[1;33m)\u001b[0m\u001b[1;33m\u001b[0m\u001b[1;33m\u001b[0m\u001b[0m\n\u001b[0m\u001b[0;32m   2561\u001b[0m \u001b[1;33m\u001b[0m\u001b[0m\n\u001b[0;32m   2562\u001b[0m                     if (\n",
      "\u001b[1;32m~\\anaconda3\\lib\\site-packages\\transformers\\trainer.py\u001b[0m in \u001b[0;36mtraining_step\u001b[1;34m(***failed resolving arguments***)\u001b[0m\n\u001b[0;32m   3780\u001b[0m                 \u001b[0mkwargs\u001b[0m\u001b[1;33m[\u001b[0m\u001b[1;34m\"scale_wrt_gas\"\u001b[0m\u001b[1;33m]\u001b[0m \u001b[1;33m=\u001b[0m \u001b[1;32mFalse\u001b[0m\u001b[1;33m\u001b[0m\u001b[1;33m\u001b[0m\u001b[0m\n\u001b[0;32m   3781\u001b[0m \u001b[1;33m\u001b[0m\u001b[0m\n\u001b[1;32m-> 3782\u001b[1;33m             \u001b[0mself\u001b[0m\u001b[1;33m.\u001b[0m\u001b[0maccelerator\u001b[0m\u001b[1;33m.\u001b[0m\u001b[0mbackward\u001b[0m\u001b[1;33m(\u001b[0m\u001b[0mloss\u001b[0m\u001b[1;33m,\u001b[0m \u001b[1;33m**\u001b[0m\u001b[0mkwargs\u001b[0m\u001b[1;33m)\u001b[0m\u001b[1;33m\u001b[0m\u001b[1;33m\u001b[0m\u001b[0m\n\u001b[0m\u001b[0;32m   3783\u001b[0m \u001b[1;33m\u001b[0m\u001b[0m\n\u001b[0;32m   3784\u001b[0m             \u001b[1;32mreturn\u001b[0m \u001b[0mloss\u001b[0m\u001b[1;33m.\u001b[0m\u001b[0mdetach\u001b[0m\u001b[1;33m(\u001b[0m\u001b[1;33m)\u001b[0m\u001b[1;33m\u001b[0m\u001b[1;33m\u001b[0m\u001b[0m\n",
      "\u001b[1;32m~\\anaconda3\\lib\\site-packages\\accelerate\\accelerator.py\u001b[0m in \u001b[0;36mbackward\u001b[1;34m(self, loss, **kwargs)\u001b[0m\n\u001b[0;32m   2448\u001b[0m             \u001b[1;32mreturn\u001b[0m\u001b[1;33m\u001b[0m\u001b[1;33m\u001b[0m\u001b[0m\n\u001b[0;32m   2449\u001b[0m         \u001b[1;32melif\u001b[0m \u001b[0mself\u001b[0m\u001b[1;33m.\u001b[0m\u001b[0mscaler\u001b[0m \u001b[1;32mis\u001b[0m \u001b[1;32mnot\u001b[0m \u001b[1;32mNone\u001b[0m\u001b[1;33m:\u001b[0m\u001b[1;33m\u001b[0m\u001b[1;33m\u001b[0m\u001b[0m\n\u001b[1;32m-> 2450\u001b[1;33m             \u001b[0mself\u001b[0m\u001b[1;33m.\u001b[0m\u001b[0mscaler\u001b[0m\u001b[1;33m.\u001b[0m\u001b[0mscale\u001b[0m\u001b[1;33m(\u001b[0m\u001b[0mloss\u001b[0m\u001b[1;33m)\u001b[0m\u001b[1;33m.\u001b[0m\u001b[0mbackward\u001b[0m\u001b[1;33m(\u001b[0m\u001b[1;33m**\u001b[0m\u001b[0mkwargs\u001b[0m\u001b[1;33m)\u001b[0m\u001b[1;33m\u001b[0m\u001b[1;33m\u001b[0m\u001b[0m\n\u001b[0m\u001b[0;32m   2451\u001b[0m         \u001b[1;32melif\u001b[0m \u001b[0mlearning_rate\u001b[0m \u001b[1;32mis\u001b[0m \u001b[1;32mnot\u001b[0m \u001b[1;32mNone\u001b[0m \u001b[1;32mand\u001b[0m \u001b[0mself\u001b[0m\u001b[1;33m.\u001b[0m\u001b[0mhas_lomo_optimizer\u001b[0m\u001b[1;33m:\u001b[0m\u001b[1;33m\u001b[0m\u001b[1;33m\u001b[0m\u001b[0m\n\u001b[0;32m   2452\u001b[0m             \u001b[0mself\u001b[0m\u001b[1;33m.\u001b[0m\u001b[0mlomo_backward\u001b[0m\u001b[1;33m(\u001b[0m\u001b[0mloss\u001b[0m\u001b[1;33m,\u001b[0m \u001b[0mlearning_rate\u001b[0m\u001b[1;33m)\u001b[0m\u001b[1;33m\u001b[0m\u001b[1;33m\u001b[0m\u001b[0m\n",
      "\u001b[1;32m~\\anaconda3\\lib\\site-packages\\torch\\_tensor.py\u001b[0m in \u001b[0;36mbackward\u001b[1;34m(self, gradient, retain_graph, create_graph, inputs)\u001b[0m\n\u001b[0;32m    624\u001b[0m             \u001b[0mself\u001b[0m\u001b[1;33m.\u001b[0m\u001b[0m_post_accumulate_grad_hooks\u001b[0m\u001b[1;33m:\u001b[0m \u001b[0mDict\u001b[0m\u001b[1;33m[\u001b[0m\u001b[0mAny\u001b[0m\u001b[1;33m,\u001b[0m \u001b[0mAny\u001b[0m\u001b[1;33m]\u001b[0m \u001b[1;33m=\u001b[0m \u001b[0mOrderedDict\u001b[0m\u001b[1;33m(\u001b[0m\u001b[1;33m)\u001b[0m\u001b[1;33m\u001b[0m\u001b[1;33m\u001b[0m\u001b[0m\n\u001b[0;32m    625\u001b[0m         \u001b[0mhandle\u001b[0m \u001b[1;33m=\u001b[0m \u001b[0mhooks\u001b[0m\u001b[1;33m.\u001b[0m\u001b[0mRemovableHandle\u001b[0m\u001b[1;33m(\u001b[0m\u001b[0mself\u001b[0m\u001b[1;33m.\u001b[0m\u001b[0m_post_accumulate_grad_hooks\u001b[0m\u001b[1;33m)\u001b[0m\u001b[1;33m\u001b[0m\u001b[1;33m\u001b[0m\u001b[0m\n\u001b[1;32m--> 626\u001b[1;33m         \u001b[0mself\u001b[0m\u001b[1;33m.\u001b[0m\u001b[0m_post_accumulate_grad_hooks\u001b[0m\u001b[1;33m[\u001b[0m\u001b[0mhandle\u001b[0m\u001b[1;33m.\u001b[0m\u001b[0mid\u001b[0m\u001b[1;33m]\u001b[0m \u001b[1;33m=\u001b[0m \u001b[0mhook\u001b[0m\u001b[1;33m\u001b[0m\u001b[1;33m\u001b[0m\u001b[0m\n\u001b[0m\u001b[0;32m    627\u001b[0m         \u001b[1;32mreturn\u001b[0m \u001b[0mhandle\u001b[0m\u001b[1;33m\u001b[0m\u001b[1;33m\u001b[0m\u001b[0m\n\u001b[0;32m    628\u001b[0m \u001b[1;33m\u001b[0m\u001b[0m\n",
      "\u001b[1;32m~\\anaconda3\\lib\\site-packages\\torch\\autograd\\__init__.py\u001b[0m in \u001b[0;36mbackward\u001b[1;34m(tensors, grad_tensors, retain_graph, create_graph, grad_variables, inputs)\u001b[0m\n\u001b[0;32m    345\u001b[0m         raise ValueError(\n\u001b[0;32m    346\u001b[0m             \u001b[1;34m\"Expected allow_unused to be True or not passed when materialize_grads=True, \"\u001b[0m\u001b[1;33m\u001b[0m\u001b[1;33m\u001b[0m\u001b[0m\n\u001b[1;32m--> 347\u001b[1;33m             \u001b[1;34m\"but got: allow_unused=False.\"\u001b[0m\u001b[1;33m\u001b[0m\u001b[1;33m\u001b[0m\u001b[0m\n\u001b[0m\u001b[0;32m    348\u001b[0m         )\n\u001b[0;32m    349\u001b[0m     \u001b[1;32mif\u001b[0m \u001b[0mallow_unused\u001b[0m \u001b[1;32mis\u001b[0m \u001b[1;32mNone\u001b[0m\u001b[1;33m:\u001b[0m\u001b[1;33m\u001b[0m\u001b[1;33m\u001b[0m\u001b[0m\n",
      "\u001b[1;32m~\\anaconda3\\lib\\site-packages\\torch\\autograd\\graph.py\u001b[0m in \u001b[0;36m_engine_run_backward\u001b[1;34m(t_outputs, *args, **kwargs)\u001b[0m\n",
      "\u001b[1;31mKeyboardInterrupt\u001b[0m: "
     ]
    }
   ],
   "source": [
    "%env WANDB_DISABLED=true\n",
    "from transformers import logging\n",
    "\n",
    "\n",
    "# Convert Pandas DF to Hugging Face Dataset\n",
    "dataset = Dataset.from_pandas(dfSmall[[\"text\", \"label\"]])\n",
    "\n",
    "# Load in BERT tokenizer\n",
    "tokenizer = AutoTokenizer.from_pretrained(\"bert-base-uncased\")\n",
    "\n",
    "def tokenize(batch):\n",
    "    return tokenizer(batch[\"text\"], padding=\"max_length\", truncation=True, max_length=256)\n",
    "\n",
    "\n",
    "# Tokenize and prepare dataset\n",
    "dataset = dataset.map(tokenize, batched=True)\n",
    "dataset.set_format(\"torch\", columns=[\"input_ids\", \"attention_mask\", \"label\"])\n",
    "\n",
    "# Shuffle and split into train/test\n",
    "dataset = dataset.shuffle(seed=42)\n",
    "dataset = dataset.train_test_split(test_size=0.1)\n",
    "train_dataset = dataset[\"train\"]\n",
    "eval_dataset = dataset[\"test\"]\n",
    "\n",
    "\n",
    "# Load in BERT model\n",
    "model = AutoModelForSequenceClassification.from_pretrained(\n",
    "    \"bert-base-uncased\",\n",
    "    num_labels=len(label2id),\n",
    "    id2label=id2label,\n",
    "    label2id=label2id\n",
    ")\n",
    "\n",
    "# Define evaluation metrics\n",
    "def compute_metrics(eval_pred):\n",
    "    logits, labels = eval_pred\n",
    "    preds = np.argmax(logits, axis=1)\n",
    "    return {\n",
    "        \"accuracy\": accuracy_score(labels, preds),\n",
    "        \"f1\": f1_score(labels, preds, average=\"weighted\")\n",
    "    }\n",
    "\n",
    "# Training configuration\n",
    "training_args = TrainingArguments(\n",
    "    output_dir=\"./results\",\n",
    "    eval_strategy=\"steps\",            \n",
    "    eval_steps=250,                    \n",
    "    load_best_model_at_end=True,\n",
    "    metric_for_best_model=\"f1\",\n",
    "    num_train_epochs=5,\n",
    "    learning_rate=2e-5,\n",
    "    per_device_train_batch_size=16,\n",
    "    per_device_eval_batch_size=16,\n",
    "    weight_decay=0.01,               \n",
    "    save_total_limit=1,\n",
    "    logging_dir=\"./logs\",\n",
    "    logging_steps=250,\n",
    "    fp16=torch.cuda.is_available(),\n",
    "    report_to=\"none\",                \n",
    ")\n",
    "\n",
    "\n",
    "\n",
    "\n",
    "# Initialize trainer\n",
    "trainer = Trainer(\n",
    "    model=model,\n",
    "    args=training_args,\n",
    "    train_dataset=train_dataset,\n",
    "    eval_dataset=eval_dataset,\n",
    "    tokenizer=tokenizer,\n",
    "    compute_metrics=compute_metrics\n",
    ")\n",
    "\n",
    "\n",
    "trainer.train()\n",
    "\n",
    "#  Final eval\n",
    "metrics = trainer.evaluate()\n",
    "print(\" Eval Output:\", metrics)\n",
    "\n",
    "\n",
    "# Save model and tokenizer locally\n",
    "model.save_pretrained(\"./bert-yelp-model\")\n",
    "tokenizer.save_pretrained(\"./bert-yelp-model\")\n"
   ]
  },
  {
   "cell_type": "code",
   "execution_count": null,
   "id": "04e7edcd",
   "metadata": {},
   "outputs": [],
   "source": [
    "# Get predictions\n",
    "predictions = trainer.predict(eval_dataset)\n",
    "preds = np.argmax(predictions.predictions, axis=1)\n",
    "labels = predictions.label_ids\n",
    "\n",
    "# Classification report\n",
    "print(\"\\n Classification Report:\\n\")\n",
    "print(classification_report(labels, preds, target_names=[id2label[i] for i in sorted(id2label.keys())]))\n",
    "\n",
    "# Confusion matrix\n",
    "print(\"\\n Confusion Matrix:\\n\")\n",
    "print(confusion_matrix(labels, preds))"
   ]
  }
 ],
 "metadata": {
  "kernelspec": {
   "display_name": "Python 3 (ipykernel)",
   "language": "python",
   "name": "python3"
  },
  "language_info": {
   "codemirror_mode": {
    "name": "ipython",
    "version": 3
   },
   "file_extension": ".py",
   "mimetype": "text/x-python",
   "name": "python",
   "nbconvert_exporter": "python",
   "pygments_lexer": "ipython3",
   "version": "3.9.13"
  }
 },
 "nbformat": 4,
 "nbformat_minor": 5
}
