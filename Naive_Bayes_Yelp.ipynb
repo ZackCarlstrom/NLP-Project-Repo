{
 "cells": [
  {
   "cell_type": "markdown",
   "id": "06020e0c-227e-4836-ba28-d1db8f2ba05b",
   "metadata": {},
   "source": [
    "# Yelp Review Geolocation - Naive Bayes Classifier"
   ]
  },
  {
   "cell_type": "markdown",
   "id": "c356c8de-5b78-48ed-9789-83599b50cd32",
   "metadata": {},
   "source": [
    "This serves as a baseline for the other models, ensuring that the data can be used to predict locations to some degree of success. Instead of using our own features like we did in class, we elected to use the Scikit-learn library and its associated functions. This way, these results could be built upon rather than focused on for a larger portion of the project."
   ]
  },
  {
   "cell_type": "markdown",
   "id": "9a86aa7b-2a4e-4ed9-bc0e-0107883ba1cd",
   "metadata": {},
   "source": [
    "## Libraries"
   ]
  },
  {
   "cell_type": "code",
   "execution_count": 156,
   "id": "7f4e3821-79d8-4420-bcf3-c2534100095b",
   "metadata": {},
   "outputs": [],
   "source": [
    "# Installations (if needed)\n",
    "\n",
    "# pip install pandas\n",
    "# pip install scikit-learn"
   ]
  },
  {
   "cell_type": "code",
   "execution_count": 158,
   "id": "02d7644a-7196-4128-819d-3ffb9ac43d16",
   "metadata": {},
   "outputs": [],
   "source": [
    "import pandas as pd\n",
    "import sklearn\n",
    "from sklearn.model_selection import train_test_split\n",
    "from sklearn.feature_extraction.text import TfidfVectorizer\n",
    "from sklearn.naive_bayes import MultinomialNB\n",
    "from sklearn.metrics import classification_report\n",
    "from sklearn.metrics import confusion_matrix"
   ]
  },
  {
   "cell_type": "code",
   "execution_count": 160,
   "id": "9858fb41-0a82-4e63-83d7-2d492ae3c771",
   "metadata": {},
   "outputs": [
    {
     "name": "stdout",
     "output_type": "stream",
     "text": [
      "Pandas version: 2.2.2\n",
      "Scikit-learn version: 1.4.2\n"
     ]
    }
   ],
   "source": [
    "print(\"Pandas version: {}\".format(pd.__version__))\n",
    "print(\"Scikit-learn version: {}\".format(sklearn.__version__))"
   ]
  },
  {
   "cell_type": "markdown",
   "id": "e7f0f11e-85c5-435b-8d94-768161f5ed6a",
   "metadata": {},
   "source": [
    "## Data"
   ]
  },
  {
   "cell_type": "code",
   "execution_count": 163,
   "id": "792e4546-e18a-4198-b0f7-67d0243d4243",
   "metadata": {},
   "outputs": [],
   "source": [
    "df_region_4 = pd.read_csv(\"balanced_reviews40000cased.csv\")\n",
    "\n",
    "# df_region_4.head"
   ]
  },
  {
   "cell_type": "code",
   "execution_count": 164,
   "id": "72979970-de67-43a0-9758-63a9c9fc299e",
   "metadata": {},
   "outputs": [],
   "source": [
    "df_region_2 = pd.read_csv(\"balanced_reviews40000cased.csv\")\n",
    "\n",
    "# df_region_2.head"
   ]
  },
  {
   "cell_type": "code",
   "execution_count": 169,
   "id": "b9e64af7-4bf1-4d50-a7c4-112c455d305d",
   "metadata": {},
   "outputs": [],
   "source": [
    "df_state = pd.read_csv(\"balancedRegionReviews.csv\")\n",
    "\n",
    "# df_state.head"
   ]
  },
  {
   "cell_type": "markdown",
   "id": "aa13b20f-8f33-4098-96a7-3270fd6c745d",
   "metadata": {},
   "source": [
    "## Implementation"
   ]
  },
  {
   "cell_type": "markdown",
   "id": "fad006f8-da4b-4870-9f25-6210e8e314fc",
   "metadata": {},
   "source": [
    "### Region-based"
   ]
  },
  {
   "cell_type": "markdown",
   "id": "0fa589e0-70d0-44ee-9494-44ec863cb478",
   "metadata": {},
   "source": [
    "#### 4 regions"
   ]
  },
  {
   "cell_type": "markdown",
   "id": "4c2aa81e-0d04-476d-9a2a-c2c7bc921b69",
   "metadata": {},
   "source": [
    "**Hyperparameters:**\n",
    "- test_size = 0.2\n",
    "- random_state = 40\n",
    "- stop_words = \"english\"\n",
    "- max_features = 20000"
   ]
  },
  {
   "cell_type": "code",
   "execution_count": 175,
   "id": "9608ef6e-a64a-4334-baa7-3734b6b6d1f1",
   "metadata": {},
   "outputs": [],
   "source": [
    "# Encode region labels\n",
    "df_region_4[\"label_id\"] = df_region_4[\"region\"].astype(\"category\").cat.codes\n",
    "label_names = df_region_4[\"region\"].astype(\"category\").cat.categories\n",
    "\n",
    "# df_region_4.head"
   ]
  },
  {
   "cell_type": "code",
   "execution_count": 177,
   "id": "7098d6f8-20f7-4b2f-9f12-507c21d908dd",
   "metadata": {},
   "outputs": [
    {
     "name": "stdout",
     "output_type": "stream",
     "text": [
      "              precision    recall  f1-score   support\n",
      "\n",
      "     Midwest       0.43      0.51      0.47      1963\n",
      "   Northeast       0.53      0.48      0.51      2007\n",
      "       South       0.54      0.47      0.50      2013\n",
      "        West       0.49      0.51      0.50      2017\n",
      "\n",
      "    accuracy                           0.49      8000\n",
      "   macro avg       0.50      0.49      0.49      8000\n",
      "weighted avg       0.50      0.49      0.49      8000\n",
      "\n"
     ]
    }
   ],
   "source": [
    "A_train, A_test, b_train, b_test = train_test_split(df_region_4[\"text\"], df_region_4[\"label_id\"], test_size=0.2, random_state=40)\n",
    "\n",
    "# TF-IDF w/stop word removal and feature limit\n",
    "vectorizer = TfidfVectorizer(stop_words=\"english\", max_features=20000)\n",
    "A_train_vec = vectorizer.fit_transform(A_train)\n",
    "A_test_vec = vectorizer.transform(A_test)\n",
    "\n",
    "# Train model\n",
    "clf = MultinomialNB()\n",
    "clf.fit(A_train_vec, b_train)\n",
    "\n",
    "# Evaluate model\n",
    "b_pred = clf.predict(A_test_vec)\n",
    "print(classification_report(b_test, b_pred, target_names=label_names))"
   ]
  },
  {
   "cell_type": "code",
   "execution_count": 178,
   "id": "29e02fc2-e709-45c6-b793-fc22345ecec8",
   "metadata": {},
   "outputs": [
    {
     "data": {
      "text/plain": [
       "array([[ 998,  292,  289,  384],\n",
       "       [ 439,  973,  257,  338],\n",
       "       [ 447,  269,  948,  349],\n",
       "       [ 422,  309,  267, 1019]], dtype=int64)"
      ]
     },
     "execution_count": 178,
     "metadata": {},
     "output_type": "execute_result"
    }
   ],
   "source": [
    "# Confusion matrix\n",
    "confusion_matrix(b_test, b_pred)"
   ]
  },
  {
   "cell_type": "markdown",
   "id": "021db011-cd29-4cb9-abfb-d1afb31cf1cf",
   "metadata": {},
   "source": [
    "#### 2 regions"
   ]
  },
  {
   "cell_type": "markdown",
   "id": "1d7481cc-ff98-4e0d-84c5-7bf2c9d4c0a1",
   "metadata": {},
   "source": [
    "Hyperparameters:\n",
    "\n",
    "- test_size = 0.2\n",
    "- random_state = 40\n",
    "- stop_words = \"english\"\n",
    "- max_features = 20000"
   ]
  },
  {
   "cell_type": "code",
   "execution_count": 183,
   "id": "2e58a635-348c-4bfb-94ee-764016622d5d",
   "metadata": {},
   "outputs": [],
   "source": [
    "# Encode region labels\n",
    "df_region_2[\"label_id\"] = df_region[\"merged_region\"].astype(\"category\").cat.codes\n",
    "label_names = df_region[\"merged_region\"].astype(\"category\").cat.categories\n",
    "\n",
    "# df_region_2.head"
   ]
  },
  {
   "cell_type": "code",
   "execution_count": 185,
   "id": "c531fda4-4a91-444a-83b1-e3b38944df9e",
   "metadata": {},
   "outputs": [
    {
     "name": "stdout",
     "output_type": "stream",
     "text": [
      "              precision    recall  f1-score   support\n",
      "\n",
      "        East       0.50      0.49      0.49      4020\n",
      "        West       0.50      0.51      0.50      3980\n",
      "\n",
      "    accuracy                           0.50      8000\n",
      "   macro avg       0.50      0.50      0.50      8000\n",
      "weighted avg       0.50      0.50      0.50      8000\n",
      "\n"
     ]
    }
   ],
   "source": [
    "C_train, C_test, d_train, d_test = train_test_split(df_region_2[\"text\"], df_region_2[\"label_id\"], test_size=0.2, random_state=40)\n",
    "\n",
    "# TF-IDF with stop word removal and feature limit\n",
    "vectorizer = TfidfVectorizer(stop_words=\"english\", max_features=20000)\n",
    "C_train_vec = vectorizer.fit_transform(X_train)\n",
    "C_test_vec = vectorizer.transform(X_test)\n",
    "\n",
    "# Train Naive Bayes model\n",
    "clf = MultinomialNB()\n",
    "clf.fit(C_train_vec, d_train)\n",
    "\n",
    "# Evaluate\n",
    "d_pred = clf.predict(C_test_vec)\n",
    "print(classification_report(d_test, d_pred, target_names=label_names))"
   ]
  },
  {
   "cell_type": "code",
   "execution_count": 209,
   "id": "41724486-67c4-4c12-bedb-db4aaf0f0860",
   "metadata": {},
   "outputs": [
    {
     "data": {
      "text/plain": [
       "array([[1959, 2061],\n",
       "       [1956, 2024]], dtype=int64)"
      ]
     },
     "execution_count": 209,
     "metadata": {},
     "output_type": "execute_result"
    }
   ],
   "source": [
    "# Confusion matrix\n",
    "confusion_matrix(d_test, d_pred)"
   ]
  },
  {
   "cell_type": "markdown",
   "id": "9d2733f3-417f-42d7-9d77-b28034a32139",
   "metadata": {},
   "source": [
    "### State-based"
   ]
  },
  {
   "cell_type": "markdown",
   "id": "3a6f2bc0-9569-4090-a0c0-cf707da0ddd4",
   "metadata": {},
   "source": [
    "Hyperparameters:\n",
    "\n",
    "- test_size = 0.2\n",
    "- random_state = 40\n",
    "- stop_words = \"english\"\n",
    "- max_features = 20000"
   ]
  },
  {
   "cell_type": "code",
   "execution_count": 195,
   "id": "1bc656cf-a5f3-40ac-bc4c-3d293334ba09",
   "metadata": {},
   "outputs": [],
   "source": [
    "# Encode state labels\n",
    "df_state[\"label_id\"] = df_state[\"state\"].astype(\"category\").cat.codes\n",
    "label_names = df_state[\"state\"].astype(\"category\").cat.categories\n",
    "\n",
    "# df_state.head"
   ]
  },
  {
   "cell_type": "code",
   "execution_count": 203,
   "id": "7c1f356c-440d-4b3e-8d88-8ca05a1c36cf",
   "metadata": {},
   "outputs": [
    {
     "name": "stdout",
     "output_type": "stream",
     "text": [
      "              precision    recall  f1-score   support\n",
      "\n",
      "          AZ       0.88      0.02      0.04       670\n",
      "          CA       1.00      0.04      0.07       508\n",
      "          DE       0.00      0.00      0.00        66\n",
      "          FL       0.72      0.06      0.10       932\n",
      "          ID       0.00      0.00      0.00       222\n",
      "          IL       0.00      0.00      0.00       100\n",
      "          IN       0.80      0.08      0.14       923\n",
      "          LA       0.90      0.12      0.22       573\n",
      "          MO       0.76      0.10      0.18       940\n",
      "          NJ       0.00      0.00      0.00       288\n",
      "          NV       0.95      0.03      0.06       617\n",
      "          PA       0.22      1.00      0.36      1653\n",
      "          TN       1.00      0.01      0.02       508\n",
      "\n",
      "    accuracy                           0.25      8000\n",
      "   macro avg       0.56      0.11      0.09      8000\n",
      "weighted avg       0.65      0.25      0.15      8000\n",
      "\n"
     ]
    }
   ],
   "source": [
    "X_train, X_test, y_train, y_test = train_test_split(df_state[\"text\"], df_state[\"label_id\"], test_size=0.2, random_state=40)\n",
    "\n",
    "# TF-IDF with stop word removal and feature limit\n",
    "vectorizer = TfidfVectorizer(stop_words=\"english\", max_features=20000)\n",
    "X_train_vec = vectorizer.fit_transform(X_train)\n",
    "X_test_vec = vectorizer.transform(X_test)\n",
    "\n",
    "# Train Naive Bayes model\n",
    "clf = MultinomialNB()\n",
    "clf.fit(X_train_vec, y_train)\n",
    "\n",
    "# Evaluate\n",
    "y_pred = clf.predict(X_test_vec)\n",
    "print(classification_report(y_test, y_pred, target_names=label_names, zero_division=0))"
   ]
  },
  {
   "cell_type": "code",
   "execution_count": 201,
   "id": "481e6820-993f-4adf-9c96-9344f302a83d",
   "metadata": {},
   "outputs": [
    {
     "data": {
      "text/plain": [
       "array([[  16,    0,    0,    4,    0,    0,    1,    0,    2,    0,    0,\n",
       "         596,    0],\n",
       "       [   2,   23,    0,    3,    0,    0,    0,    1,    2,    0,    0,\n",
       "         499,    0],\n",
       "       [   0,    0,    0,    0,    0,    0,    0,    0,    0,    0,    0,\n",
       "          82,    0],\n",
       "       [   0,    0,    0,   63,    0,    0,    1,    3,    4,    0,    0,\n",
       "         839,    0],\n",
       "       [   0,    0,    0,    0,    0,    0,    3,    0,    0,    0,    0,\n",
       "         217,    0],\n",
       "       [   1,    0,    0,    1,    0,    0,    0,    0,    3,    0,    0,\n",
       "          83,    0],\n",
       "       [   1,    0,    0,    2,    0,    0,   63,    1,   11,    0,    0,\n",
       "         909,    0],\n",
       "       [   0,    0,    0,    0,    0,    0,    0,   72,    4,    0,    0,\n",
       "         505,    0],\n",
       "       [   0,    0,    0,    4,    0,    0,    2,    2,  103,    0,    0,\n",
       "         861,    0],\n",
       "       [   0,    0,    0,    1,    0,    0,    0,    0,    1,    0,    0,\n",
       "         271,    0],\n",
       "       [   1,    1,    0,    5,    0,    0,    0,    0,    1,    0,   16,\n",
       "         607,    0],\n",
       "       [   0,    0,    0,    2,    0,    0,    0,    1,    1,    0,    0,\n",
       "        1608,    0],\n",
       "       [   0,    0,    0,    2,    0,    0,    3,    1,    3,    0,    0,\n",
       "         480,    6]], dtype=int64)"
      ]
     },
     "execution_count": 201,
     "metadata": {},
     "output_type": "execute_result"
    }
   ],
   "source": [
    "# Confusion matrix\n",
    "confusion_matrix(y_test, y_pred)"
   ]
  },
  {
   "cell_type": "code",
   "execution_count": null,
   "id": "22f29620-3da7-4312-9e1a-21e535c6b0b1",
   "metadata": {},
   "outputs": [],
   "source": []
  }
 ],
 "metadata": {
  "kernelspec": {
   "display_name": "Python 3 (ipykernel)",
   "language": "python",
   "name": "python3"
  },
  "language_info": {
   "codemirror_mode": {
    "name": "ipython",
    "version": 3
   },
   "file_extension": ".py",
   "mimetype": "text/x-python",
   "name": "python",
   "nbconvert_exporter": "python",
   "pygments_lexer": "ipython3",
   "version": "3.12.4"
  }
 },
 "nbformat": 4,
 "nbformat_minor": 5
}
