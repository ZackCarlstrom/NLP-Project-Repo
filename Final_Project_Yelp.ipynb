{
 "cells": [
  {
   "attachments": {},
   "cell_type": "markdown",
   "metadata": {},
   "source": [
    "# Final Project - Yelp Location Classification\n",
    "#### CSCI 3832 Natural Language Processing"
   ]
  },
  {
   "attachments": {},
   "cell_type": "markdown",
   "metadata": {},
   "source": [
    "This should run top to bottom correctly. I have it set to run the entire dataset but if your system is not robust it may have trouble, in which case you can experiment with 'reviews_by_state_trimmed' dataframe which contains about 344,000 reviews. If this is still too much, run cell 7 again to trim even further."
   ]
  },
  {
   "cell_type": "code",
   "execution_count": 142,
   "metadata": {},
   "outputs": [],
   "source": [
    "# Necessary Imports\n",
    "\n",
    "import os, random, sys, copy\n",
    "import torch, torch.nn as nn, numpy as np\n",
    "from tqdm.notebook import tqdm\n",
    "from torch.nn.utils.rnn import pack_padded_sequence, pad_packed_sequence\n",
    "from nltk.tokenize import word_tokenize\n",
    "import matplotlib.pyplot as plt\n",
    "import pandas as pd\n",
    "from torch.utils.data import Dataset\n",
    "from sklearn.model_selection import train_test_split\n",
    "# from transformers import AutoTokenizer, pipeline\n",
    "from datasets import load_dataset\n",
    "# from evaluate import load\n",
    "from tqdm.notebook import tqdm"
   ]
  },
  {
   "cell_type": "code",
   "execution_count": null,
   "metadata": {},
   "outputs": [
    {
     "data": {
      "text/html": [
       "<div>\n",
       "<style scoped>\n",
       "    .dataframe tbody tr th:only-of-type {\n",
       "        vertical-align: middle;\n",
       "    }\n",
       "\n",
       "    .dataframe tbody tr th {\n",
       "        vertical-align: top;\n",
       "    }\n",
       "\n",
       "    .dataframe thead th {\n",
       "        text-align: right;\n",
       "    }\n",
       "</style>\n",
       "<table border=\"1\" class=\"dataframe\">\n",
       "  <thead>\n",
       "    <tr style=\"text-align: right;\">\n",
       "      <th></th>\n",
       "      <th>text</th>\n",
       "      <th>state</th>\n",
       "    </tr>\n",
       "  </thead>\n",
       "  <tbody>\n",
       "    <tr>\n",
       "      <th>0</th>\n",
       "      <td>If you decide to eat here, just be aware it is...</td>\n",
       "      <td>PA</td>\n",
       "    </tr>\n",
       "    <tr>\n",
       "      <th>1</th>\n",
       "      <td>This is the second time we tried turning point...</td>\n",
       "      <td>PA</td>\n",
       "    </tr>\n",
       "    <tr>\n",
       "      <th>2</th>\n",
       "      <td>The place is cute and the staff was very frien...</td>\n",
       "      <td>PA</td>\n",
       "    </tr>\n",
       "    <tr>\n",
       "      <th>3</th>\n",
       "      <td>We came on a Saturday morning after waiting a ...</td>\n",
       "      <td>PA</td>\n",
       "    </tr>\n",
       "    <tr>\n",
       "      <th>4</th>\n",
       "      <td>Mediocre at best. The decor is very nice, and ...</td>\n",
       "      <td>PA</td>\n",
       "    </tr>\n",
       "  </tbody>\n",
       "</table>\n",
       "</div>"
      ],
      "text/plain": [
       "                                                text state\n",
       "0  If you decide to eat here, just be aware it is...    PA\n",
       "1  This is the second time we tried turning point...    PA\n",
       "2  The place is cute and the staff was very frien...    PA\n",
       "3  We came on a Saturday morning after waiting a ...    PA\n",
       "4  Mediocre at best. The decor is very nice, and ...    PA"
      ]
     },
     "execution_count": 2,
     "metadata": {},
     "output_type": "execute_result"
    }
   ],
   "source": [
    "reviews_by_state = pd.read_csv(\n",
    "    \"C:/Users/danie/Downloads/reviews_with_locations.csv.gz\",   # Adjust the path as necessary\n",
    "    compression='gzip',\n",
    "    usecols=[\"text\", \"state\"]\n",
    ")\n",
    "\n",
    "# Preview the data\n",
    "reviews_by_state.head()"
   ]
  },
  {
   "cell_type": "code",
   "execution_count": 3,
   "metadata": {},
   "outputs": [
    {
     "data": {
      "text/plain": [
       "state\n",
       "PA    1598960\n",
       "FL    1161545\n",
       "LA     761673\n",
       "TN     614388\n",
       "MO     502385\n",
       "IN     489752\n",
       "AZ     431708\n",
       "NV     430678\n",
       "CA     348856\n",
       "NJ     260897\n",
       "ID     157572\n",
       "DE      70302\n",
       "IL      51832\n",
       "Name: count, dtype: int64"
      ]
     },
     "execution_count": 3,
     "metadata": {},
     "output_type": "execute_result"
    }
   ],
   "source": [
    "reviews_by_state['state'].value_counts()"
   ]
  },
  {
   "cell_type": "code",
   "execution_count": 4,
   "metadata": {},
   "outputs": [
    {
     "data": {
      "text/plain": [
       "array(['PA', 'AZ', 'LA', 'CA', 'FL', 'IN', 'MO', 'TN', 'NV', 'NJ', 'IL',\n",
       "       'ID', 'DE'], dtype=object)"
      ]
     },
     "execution_count": 4,
     "metadata": {},
     "output_type": "execute_result"
    }
   ],
   "source": [
    "reviews_by_state['state'].unique()"
   ]
  },
  {
   "cell_type": "code",
   "execution_count": 5,
   "metadata": {},
   "outputs": [
    {
     "name": "stdout",
     "output_type": "stream",
     "text": [
      "Loaded 400000 words from glove\n"
     ]
    }
   ],
   "source": [
    "glove_file = 'glove.6B/glove.6B.50d.txt' # modify to appropriate path for your file system\n",
    "\n",
    "embeddings_dict = {}\n",
    "\n",
    "with open(glove_file, 'r', encoding='utf8') as f:\n",
    "    for i, line in enumerate(f):\n",
    "        line = line.strip().split(' ')\n",
    "        word = line[0]\n",
    "        embed = np.asarray(line[1:], \"float\")\n",
    "\n",
    "        embeddings_dict[word] = embed\n",
    "\n",
    "\n",
    "print('Loaded {} words from glove'.format(len(embeddings_dict)))\n",
    "\n",
    "low = -1.0 / 3\n",
    "high = 1.0 / 3\n",
    "embedding_matrix = np.random.uniform(low=low, high=high, size=(len(embeddings_dict)+1, 50))\n",
    "\n",
    "word2id = {}\n",
    "for i, word in enumerate(embeddings_dict.keys(), 1):\n",
    "\n",
    "    word2id[word] = i                                \n",
    "    embedding_matrix[i] = embeddings_dict[word]      \n",
    "\n",
    "word2id['<pad>'] = 0\n",
    "\n",
    "# Add <unk> token\n",
    "word2id['unk'] = len(word2id)\n",
    "embedding_matrix = np.vstack([\n",
    "    embedding_matrix,\n",
    "    np.random.uniform(low=low, high=high, size=(50,))\n",
    "])"
   ]
  },
  {
   "cell_type": "code",
   "execution_count": null,
   "metadata": {},
   "outputs": [],
   "source": [
    "class YelpReviewByStateDataset(Dataset):\n",
    "    def __init__(self, csv_path=None, df=None, word2id=None, max_length=256, data_limit=None, label_set=None, tokenizer=True):\n",
    "        \"\"\"\n",
    "        :param csv_path: Path to CSV file with 'text' and 'state' columns (optional if df is provided)\n",
    "        :param df: Optional preloaded DataFrame\n",
    "        :param word2id: Dictionary mapping words to GloVe indices\n",
    "        :param max_length: Max sequence length\n",
    "        :param data_limit: Optionally limit number of rows\n",
    "        :param label_set: Optional pre-defined label_set to enforce consistent label IDs across splits\n",
    "        \"\"\"\n",
    "        self.word2id = word2id\n",
    "        self.max_length = max_length\n",
    "\n",
    "        # Load data\n",
    "        if df is not None:\n",
    "            self.df = df.copy()\n",
    "        else:\n",
    "            self.df = pd.read_csv(csv_path, compression='gzip', usecols=['text', 'state'])\n",
    "\n",
    "        # Apply data limit regardless of source\n",
    "        if data_limit:\n",
    "            self.df = self.df.sample(n=data_limit, random_state=42).reset_index(drop=True)\n",
    "\n",
    "\n",
    "        # Define label mappings\n",
    "        if label_set is None:\n",
    "            self.label_set = sorted(df['state'].unique())\n",
    "        else:\n",
    "            self.label_set = label_set\n",
    "\n",
    "        self.label2id = {label: idx for idx, label in enumerate(self.label_set)}\n",
    "        self.id2label = {idx: label for label, idx in self.label2id.items()}\n",
    "\n",
    "        # Process data\n",
    "        self.data = self.tokenize(df['text'].tolist(), df['state'].tolist(), tokenizer)\n",
    "    \n",
    "    def tokenize(self, texts, labels, tokenizer):\n",
    "        examples = []\n",
    "        for text, label in tqdm(zip(texts, labels), total=len(texts), desc=\"Tokenizing examples\"):\n",
    "            if tokenizer:\n",
    "                tokens = word_tokenize(str(text).lower())  # Slow tokenizer using NLTK\n",
    "            else:\n",
    "                tokens = str(text).lower().split()  # Fast tokenizer\n",
    "            ids = [self.word2id.get(tok, self.word2id.get('unk', 0)) for tok in tokens]\n",
    "\n",
    "            # Truncate if too long\n",
    "            if len(ids) > self.max_length:\n",
    "                ids = ids[:self.max_length]\n",
    "\n",
    "            length = len(ids)  # After truncation\n",
    "\n",
    "            # Pad if too short\n",
    "            if len(ids) < self.max_length:\n",
    "                ids += [self.word2id.get('<pad>', 0)] * (self.max_length - len(ids))\n",
    "\n",
    "            examples.append(((torch.tensor(ids), length), self.label2id[label]))\n",
    "        \n",
    "        return examples\n",
    "\n",
    "    def __getitem__(self, idx):\n",
    "        return self.data[idx]\n",
    "\n",
    "    def __len__(self):\n",
    "        return len(self.data)\n",
    "\n"
   ]
  },
  {
   "cell_type": "code",
   "execution_count": 7,
   "metadata": {},
   "outputs": [],
   "source": [
    "reviews_by_state_trimmed = reviews_by_state.groupby('state', group_keys=False).sample(frac=0.05, random_state=42).reset_index(drop=True)"
   ]
  },
  {
   "cell_type": "code",
   "execution_count": 8,
   "metadata": {},
   "outputs": [
    {
     "data": {
      "text/plain": [
       "text     344028\n",
       "state    344028\n",
       "dtype: int64"
      ]
     },
     "execution_count": 8,
     "metadata": {},
     "output_type": "execute_result"
    }
   ],
   "source": [
    "reviews_by_state_trimmed.count()"
   ]
  },
  {
   "cell_type": "code",
   "execution_count": 9,
   "metadata": {},
   "outputs": [
    {
     "data": {
      "text/plain": [
       "state\n",
       "PA    79948\n",
       "FL    58077\n",
       "LA    38084\n",
       "TN    30719\n",
       "MO    25119\n",
       "IN    24488\n",
       "AZ    21585\n",
       "NV    21534\n",
       "CA    17443\n",
       "NJ    13045\n",
       "ID     7879\n",
       "DE     3515\n",
       "IL     2592\n",
       "Name: count, dtype: int64"
      ]
     },
     "execution_count": 9,
     "metadata": {},
     "output_type": "execute_result"
    }
   ],
   "source": [
    "reviews_by_state_trimmed['state'].value_counts()"
   ]
  },
  {
   "cell_type": "code",
   "execution_count": null,
   "metadata": {},
   "outputs": [
    {
     "data": {
      "application/vnd.jupyter.widget-view+json": {
       "model_id": "9cb53fa01e5d4dd49a5d8a0333cc42c9",
       "version_major": 2,
       "version_minor": 0
      },
      "text/plain": [
       "Tokenizing examples:   0%|          | 0/275222 [00:00<?, ?it/s]"
      ]
     },
     "metadata": {},
     "output_type": "display_data"
    },
    {
     "data": {
      "application/vnd.jupyter.widget-view+json": {
       "model_id": "eceb720f328b4f8880d99b4f3592aac0",
       "version_major": 2,
       "version_minor": 0
      },
      "text/plain": [
       "Tokenizing examples:   0%|          | 0/68806 [00:00<?, ?it/s]"
      ]
     },
     "metadata": {},
     "output_type": "display_data"
    },
    {
     "name": "stdout",
     "output_type": "stream",
     "text": [
      "275222 train samples\n",
      "68806 validation samples\n",
      "((tensor([  101,    62,    42,   461,   193,  3641,     5,   243,     5,  5351,\n",
      "        17112,     3,     5,   254,   193,   214,    11,  2180,    42, 79839,\n",
      "           21,   101,    42,    95,   892,    50,   193,  3252,    26,   162,\n",
      "           14,  2225,  1022,     6,   327,   138,    14,  2225,  1095,     3,\n",
      "           42,   121,   497,   420,    13,    40,  4702,   193,  1249,     6,\n",
      "          484,    21,     5,    49,    42,   856,    71,    89,     6,    40,\n",
      "          120,    71,    34,  1097,   780,    13,    42,    87,   191,     3,\n",
      "           42,  2530,     1,   247,    42,   120,    11,     8,  1248,     3,\n",
      "           40,  1370,    71, 16902,   193,  3641,    11,     1,  1249,    67,\n",
      "            5,     6,   138,    26,   806,   806,   446,     5,    65,     4,\n",
      "           38,    42,   115,   856,    71,   243,   254,   193,   214,    11,\n",
      "         2180,     6,    41,     5,  7647,    65,   560,   806,   806,   806,\n",
      "          806,    42,   914,   101,  2709,  6035,    18,    38,     3,    38,\n",
      "           16,   223,     5,    31,     1,  2694,    80,    42,    16,   223,\n",
      "            5,    31,   668,     5,   254,   102,     7,    75,   410,    83,\n",
      "            3,    40, 58545, 16902,   286,   193,  4133,    11,     1,  3641,\n",
      "          114,    48,    99,    64,   528,   806,   806,   806,    13,    15,\n",
      "         1337, 87376,   806,   806,    40,   190,    31,   668,     5, 16902,\n",
      "          193,  3641,    62,    40,    33,     1,  2002,    13,  4702,   193,\n",
      "         1249,    37,   286,   806,   806,    42,    95,  1907,    84,    21,\n",
      "           16,   286,    13,  4702,    35,    62,    40,    89,    21,    13,\n",
      "           15,    71,   249,   806,   806,   806,   111,    40,    16,   223,\n",
      "            5,   456,   286,     8,   495,  1249,    42, 52718,    31,    14,\n",
      "           13,  1249,    20,    42,    89,    71,    34,   576,    80,     5,\n",
      "          170,     5,     1,   923,   107,     1,  1249,     6,    42, 52718,\n",
      "          191,     1,    49,    14,     1,   183]), 256), 0)\n"
     ]
    }
   ],
   "source": [
    "# Load and split the data\n",
    "# Take 5% from each state\n",
    "# reviews_by_state = pd.read_csv(\"C:/Users/danie/Downloads/reviews_with_locations.csv.gz\", compression='gzip', usecols=['text', 'state'])\n",
    "train_df, valid_df = train_test_split(reviews_by_state_trimmed, test_size=0.2, random_state=42, stratify=reviews_by_state_trimmed['state'])\n",
    "\n",
    "# Get label set from training only to ensure consistent mapping\n",
    "label_set = sorted(train_df['state'].unique())\n",
    "\n",
    "# Create datasets\n",
    "train_dataset = YelpReviewByStateDataset(\n",
    "    df=train_df,\n",
    "    word2id=word2id,\n",
    "    label_set=label_set,\n",
    "    data_limit=10000,  # Limit training to 10k\n",
    "    tokenizer=False\n",
    ")\n",
    "\n",
    "valid_dataset = YelpReviewByStateDataset(\n",
    "    df=valid_df,\n",
    "    word2id=word2id,\n",
    "    label_set=label_set,\n",
    "    data_limit=2000,    # Limit validation to 2k\n",
    "    tokenizer=False\n",
    ")\n",
    "\n",
    "print(len(train_dataset), \"train samples\")\n",
    "print(len(valid_dataset), \"validation samples\")\n",
    "print(train_dataset[0])  # (tensor, label_id)\n"
   ]
  },
  {
   "attachments": {},
   "cell_type": "markdown",
   "metadata": {},
   "source": [
    "We'll also initialize our movie review dataset again, but with another slight change: while we're still padding the examples to the maximum length we describe, we need to keep track of the original length. This will help us save on some computations down the line. \n",
    "\n",
    "Now we'll load a train and validation dataset. "
   ]
  },
  {
   "attachments": {},
   "cell_type": "markdown",
   "metadata": {},
   "source": [
    "Initialize the prediction function and training loop as before"
   ]
  },
  {
   "cell_type": "code",
   "execution_count": 11,
   "metadata": {},
   "outputs": [],
   "source": [
    "def predict(model, valid_dataloader, device='cpu'):\n",
    "    model.eval()\n",
    "    total_correct = 0\n",
    "    total_examples = len(valid_dataloader.dataset)\n",
    "\n",
    "    with torch.no_grad():\n",
    "        for (x, x_lengths), y in valid_dataloader:\n",
    "            x, x_lengths, y = x.to(device), x_lengths.to(device), y.to(device)\n",
    "\n",
    "            logits = model(x, x_lengths)               # shape: (batch_size, num_classes)\n",
    "            predictions = torch.argmax(logits, dim=1)  # shape: (batch_size,)\n",
    "\n",
    "            total_correct += (predictions == y).sum().item()\n",
    "\n",
    "    accuracy = total_correct / total_examples\n",
    "    print('accuracy: {:.2f}%'.format(accuracy * 100))\n",
    "    return accuracy\n"
   ]
  },
  {
   "cell_type": "code",
   "execution_count": 12,
   "metadata": {},
   "outputs": [],
   "source": [
    "def train_lstm_classification(model, train_dataset, valid_dataset, epochs=10, batch_size=32, learning_rate=.001, print_frequency=25):\n",
    "\n",
    "    criteria = nn.CrossEntropyLoss()\n",
    "    optimizer = torch.optim.AdamW(model.parameters(), lr=learning_rate)\n",
    "\n",
    "\n",
    "    epochs = epochs\n",
    "    batch_size = batch_size\n",
    "    print_frequency = print_frequency\n",
    "\n",
    "    #We'll create an instance of a torch dataloader to collate our data. This class handles batching and shuffling (should be done each epoch)\n",
    "    train_dataloader = torch.utils.data.DataLoader(train_dataset, batch_size=batch_size, shuffle=False)\n",
    "    valid_dataloader = torch.utils.data.DataLoader(valid_dataset, batch_size=128, shuffle=False)\n",
    "\n",
    "    print('Total train batches: {}'.format(train_dataset.__len__() / batch_size))\n",
    "\n",
    "    best_accuracy = 0.0\n",
    "    best_model_sd = None\n",
    "\n",
    "    for i in range(epochs):\n",
    "        print('### Epoch: ' + str(i+1) + ' ###')\n",
    "    \n",
    "        model.train()\n",
    "\n",
    "        avg_loss = 0\n",
    "\n",
    "        for step, data in enumerate(train_dataloader):\n",
    "\n",
    "            (x, x_lengths), y = data\t# Our dataset is returning the input example x and also the lengths of the examples, so we'll unpack that here\n",
    "\n",
    "            optimizer.zero_grad()\n",
    "\n",
    "            model_output = model(x, x_lengths)\n",
    "\n",
    "            loss = criteria(model_output, y)\n",
    "\n",
    "            loss.backward()\n",
    "            optimizer.step()\n",
    "\n",
    "            avg_loss += loss.item()\n",
    "\n",
    "            if step % print_frequency == (print_frequency - 1):\n",
    "                print('epoch: {} batch: {} loss: {}'.format(\n",
    "                    i,\n",
    "                    step,\n",
    "                    avg_loss / print_frequency\n",
    "                ))\n",
    "                avg_loss = 0\n",
    "\n",
    "        print('Evaluating...')\n",
    "        model.eval()\n",
    "        with torch.no_grad():\n",
    "            acc = predict(model, valid_dataloader)\n",
    "            if acc > best_accuracy:\n",
    "                best_model_sd = copy.deepcopy(model.state_dict())\n",
    "                best_accuracy = acc\n",
    "\n",
    "    return model.state_dict(), best_model_sd"
   ]
  },
  {
   "cell_type": "code",
   "execution_count": 13,
   "metadata": {},
   "outputs": [],
   "source": [
    "class LSTMModel(nn.Module):\n",
    "\n",
    "    def __init__(self, embedding_matrix, num_classes, lstm_hidden_size=50, num_lstm_layers=1, bidirectional=True):\n",
    "\n",
    "        super().__init__()\n",
    "        self.embedding = nn.Embedding.from_pretrained(torch.FloatTensor(embedding_matrix))\n",
    "        self.lstm = nn.LSTM(input_size = embedding_matrix.shape[1],\n",
    "                            hidden_size = lstm_hidden_size,\n",
    "                            num_layers = num_lstm_layers,\n",
    "                            bidirectional = bidirectional,\n",
    "                            batch_first = True)\n",
    "        \n",
    "        self.hidden_1 = nn.Linear(lstm_hidden_size * 2, lstm_hidden_size)\n",
    "        self.hidden_2 = nn.Linear(lstm_hidden_size, num_classes)\n",
    "        self.num_directions = 2 if bidirectional else 1\n",
    "        self.relu = nn.ReLU()\n",
    "\n",
    "    def forward(self, input_batch, input_lengths):\n",
    "        \n",
    "        embedded_input = self.embedding(input_batch)\n",
    "        \n",
    "        packed_input = pack_padded_sequence(embedded_input, input_lengths, batch_first=True, enforce_sorted=False)\n",
    "\n",
    "        packed_output, (hn, cn) = self.lstm(packed_input)                                                                       \n",
    "\n",
    "        hn_view = hn.view(self.lstm.num_layers, self.num_directions, input_batch.shape[0], self.lstm.hidden_size)               # Reshape hn for clarity -- first dimension now represents each layer (total set by num_lstm_layers)\n",
    "\n",
    "        hn_view_last_layer = hn_view[-1]                                                                                        # Taking the last layer for our final LSTM output\n",
    "\n",
    "        hn_cat = torch.cat([hn_view_last_layer[-2, :, :], hn_view_last_layer[-1, :, :]], dim=1)                                 # Each layer has two directions. We want to use both of these vectors, so concatenate them\n",
    "\n",
    "        hid = self.relu(self.hidden_1(hn_cat))\n",
    "\n",
    "        output = self.hidden_2(hid)\n",
    "\n",
    "        # raise KeyError\n",
    "        #         \n",
    "        return output"
   ]
  },
  {
   "cell_type": "code",
   "execution_count": 15,
   "metadata": {},
   "outputs": [],
   "source": [
    "# model = LSTMModel(embedding_matrix, num_classes=len(train_dataset.label_set))\n",
    "# model, best_model = train_lstm_classification(model, train_dataset, valid_dataset, batch_size=128, epochs=1)"
   ]
  },
  {
   "cell_type": "code",
   "execution_count": 16,
   "metadata": {},
   "outputs": [],
   "source": [
    "def train_lstm_classification(model, train_dataset, valid_dataset, epochs=10, batch_size=32, learning_rate=0.001, print_frequency=25, device=None):\n",
    "    if device is None:\n",
    "        device = torch.device(\"cuda\" if torch.cuda.is_available() else \"cpu\")\n",
    "    print(f\"Using device: {device}\")\n",
    "\n",
    "    # Move model to the correct device\n",
    "    model = model.to(device)\n",
    "\n",
    "    criteria = nn.CrossEntropyLoss()\n",
    "    optimizer = torch.optim.AdamW(model.parameters(), lr=learning_rate)\n",
    "\n",
    "    train_dataloader = torch.utils.data.DataLoader(train_dataset, batch_size=batch_size, shuffle=True)\n",
    "    valid_dataloader = torch.utils.data.DataLoader(valid_dataset, batch_size=128, shuffle=False)\n",
    "\n",
    "    print('Total train batches: {}'.format(len(train_dataset) / batch_size))\n",
    "\n",
    "    best_accuracy = 0.0\n",
    "    best_model_sd = None\n",
    "    all_losses = []\n",
    "\n",
    "    for epoch in range(epochs):\n",
    "        print(f'### Epoch: {epoch + 1} ###')\n",
    "        model.train()\n",
    "        avg_loss = 0\n",
    "\n",
    "        for step, ((x, x_lengths), y) in enumerate(train_dataloader):\n",
    "            # Move tensors to GPU\n",
    "            x = x.to(device)\n",
    "            x_lengths = x_lengths.to(device)\n",
    "            y = y.to(device)\n",
    "\n",
    "            optimizer.zero_grad()\n",
    "            output = model(x, x_lengths)  # output shape: (batch_size, num_classes)\n",
    "\n",
    "            loss = criteria(output, y)\n",
    "            loss.backward()\n",
    "            optimizer.step()\n",
    "\n",
    "            avg_loss += loss.item()\n",
    "\n",
    "            if step % print_frequency == (print_frequency - 1):\n",
    "                avg_loss_value = avg_loss / print_frequency\n",
    "                print(f'epoch: {epoch} batch: {step} loss: {avg_loss / print_frequency:.4f}')\n",
    "                all_losses.append(avg_loss_value)\n",
    "                avg_loss = 0\n",
    "\n",
    "        print('Evaluating...')\n",
    "        acc = predict(model, valid_dataloader, device=device)\n",
    "        if acc > best_accuracy:\n",
    "            best_model_sd = copy.deepcopy(model.state_dict())\n",
    "            best_accuracy = acc\n",
    "\n",
    "    return model.state_dict(), best_model_sd, all_losses\n"
   ]
  },
  {
   "cell_type": "code",
   "execution_count": 17,
   "metadata": {},
   "outputs": [],
   "source": [
    "def predict(model, valid_dataloader, device='cpu'):\n",
    "    model.eval()\n",
    "    total_correct = 0\n",
    "    total_examples = len(valid_dataloader.dataset)\n",
    "\n",
    "    with torch.no_grad():\n",
    "        for (x, x_lengths), y in valid_dataloader:\n",
    "            x, x_lengths, y = x.to(device), x_lengths.to(device), y.to(device)\n",
    "            logits = model(x, x_lengths)\n",
    "            predictions = torch.argmax(logits, dim=1)\n",
    "            total_correct += (predictions == y).sum().item()\n",
    "\n",
    "    accuracy = total_correct / total_examples\n",
    "    print('accuracy: {:.2f}%'.format(accuracy * 100))\n",
    "    return accuracy\n"
   ]
  },
  {
   "cell_type": "code",
   "execution_count": 18,
   "metadata": {},
   "outputs": [],
   "source": [
    "class LSTMModel(nn.Module):\n",
    "\n",
    "    def __init__(self, embedding_matrix, num_classes, lstm_hidden_size=50, num_lstm_layers=1, bidirectional=True):\n",
    "\n",
    "        super().__init__()\n",
    "        self.embedding = nn.Embedding.from_pretrained(torch.FloatTensor(embedding_matrix))\n",
    "        self.lstm = nn.LSTM(input_size = embedding_matrix.shape[1],\n",
    "                            hidden_size = lstm_hidden_size,\n",
    "                            num_layers = num_lstm_layers,\n",
    "                            bidirectional = bidirectional,\n",
    "                            batch_first = True)\n",
    "        \n",
    "        self.hidden_1 = nn.Linear(lstm_hidden_size * 2, lstm_hidden_size)\n",
    "        self.hidden_2 = nn.Linear(lstm_hidden_size, num_classes)\n",
    "        self.num_directions = 2 if bidirectional else 1\n",
    "        self.relu = nn.ReLU()\n",
    "\n",
    "    def forward(self, input_batch, input_lengths):\n",
    "        \n",
    "        embedded_input = self.embedding(input_batch)\n",
    "        \n",
    "        packed_input = pack_padded_sequence(embedded_input, input_lengths.cpu(), batch_first=True, enforce_sorted=False)\n",
    "\n",
    "        packed_output, (hn, cn) = self.lstm(packed_input)                                                                       \n",
    "\n",
    "        hn_view = hn.view(self.lstm.num_layers, self.num_directions, input_batch.shape[0], self.lstm.hidden_size)               # Reshape hn for clarity -- first dimension now represents each layer (total set by num_lstm_layers)\n",
    "\n",
    "        hn_view_last_layer = hn_view[-1]                                                                                        # Taking the last layer for our final LSTM output\n",
    "\n",
    "        hn_cat = torch.cat([hn_view_last_layer[-2, :, :], hn_view_last_layer[-1, :, :]], dim=1)                                 # Each layer has two directions. We want to use both of these vectors, so concatenate them\n",
    "\n",
    "        hid = self.relu(self.hidden_1(hn_cat))\n",
    "\n",
    "        output = self.hidden_2(hid)\n",
    "\n",
    "        # raise KeyError\n",
    "        #         \n",
    "        return output"
   ]
  },
  {
   "cell_type": "code",
   "execution_count": null,
   "metadata": {},
   "outputs": [
    {
     "data": {
      "application/vnd.jupyter.widget-view+json": {
       "model_id": "a58973b7c80844169fe80bc034c6357b",
       "version_major": 2,
       "version_minor": 0
      },
      "text/plain": [
       "Tokenizing examples:   0%|          | 0/275222 [00:00<?, ?it/s]"
      ]
     },
     "metadata": {},
     "output_type": "display_data"
    },
    {
     "data": {
      "application/vnd.jupyter.widget-view+json": {
       "model_id": "93f5477fd4204ab0bff57db23c3bc37b",
       "version_major": 2,
       "version_minor": 0
      },
      "text/plain": [
       "Tokenizing examples:   0%|          | 0/68806 [00:00<?, ?it/s]"
      ]
     },
     "metadata": {},
     "output_type": "display_data"
    },
    {
     "name": "stdout",
     "output_type": "stream",
     "text": [
      "275222 train samples\n",
      "68806 validation samples\n",
      "((tensor([   101,     62,     42,    461,    193,   3641,      5,    243,      5,\n",
      "          5351, 400001,      5,    254,    193,    214,     11,   2180,     42,\n",
      "         79839,     21,    101,     42,     95,    892,     50,    193,   3252,\n",
      "            26,    162,     14,   2225,   1022,      6,    327,    138,     14,\n",
      "          2225,   1095,      3,     42,    121,    497,    420,     13,     40,\n",
      "          4702,    193,   1249,      6,    484,     21,      5,     49,     42,\n",
      "        400001,     89,      6,     40, 400001,     34,   1097,    780,     13,\n",
      "            42,     87, 400001,     42,   2530,      1,    247,     42,    120,\n",
      "            11,      8, 400001,     40, 400001,  16902,    193,   3641,     11,\n",
      "             1,   1249,     67,      5,      6,    138, 400001,    446,      5,\n",
      "            65,      4,     38,     42,    115, 400001,    243,    254,    193,\n",
      "           214,     11,   2180,      6,     41,      5,   7647,     65, 400001,\n",
      "            42,    914,    101,   2709,   6035,     18, 400001,     38,     16,\n",
      "           223,      5,     31,      1,   2694,     80,     42,     16,    223,\n",
      "             5,     31,    668,      5,    254,    102,      7,     75,    410,\n",
      "        400001,     40,  58545,  16902,    286,    193,   4133,     11,      1,\n",
      "          3641,    114,     48,     99,     64, 400001,     13,     15,   1337,\n",
      "        400001,     40,    190,     31,    668,      5,  16902,    193,   3641,\n",
      "            62,     40,     33,      1,   2002,     13,   4702,    193,   1249,\n",
      "            37, 400001,     42,     95,   1907,     84,     21,     16,    286,\n",
      "            13,   4702,     35,     62,     40,     89,     21,     13, 400001,\n",
      "        400001,    111,     40,     16,    223,      5,    456,    286,      8,\n",
      "           495,   1249,     42,  52718,     31,     14,     13,   1249,     20,\n",
      "            42, 400001,     34,    576,     80,      5,    170,      5,      1,\n",
      "           923,    107,      1,   1249,      6,     42,  52718,    191,      1,\n",
      "            49,     14,      1,    183,    123,     20,     85,     49,     15,\n",
      "           223,      5,     31,    205,      5,    327,   7988,    286,     26,\n",
      "             1, 400001,     84,     42,     41,    193,    180,     42, 400001,\n",
      "           152,    456,     21,    177]), 256), 0)\n"
     ]
    }
   ],
   "source": [
    "train_df, valid_df = train_test_split(reviews_by_state_trimmed, test_size=0.2, random_state=42, stratify=reviews_by_state_trimmed['state'])\n",
    "\n",
    "# Get label set from training only to ensure consistent mapping\n",
    "label_set = sorted(train_df['state'].unique())\n",
    "\n",
    "# Create datasets\n",
    "train_dataset = YelpReviewByStateDataset(\n",
    "    df=train_df,\n",
    "    word2id=word2id,\n",
    "    label_set=label_set,\n",
    "    data_limit=10000,\n",
    "    tokenizer=False\n",
    ")\n",
    "\n",
    "valid_dataset = YelpReviewByStateDataset(\n",
    "    df=valid_df,\n",
    "    word2id=word2id,\n",
    "    label_set=label_set,\n",
    "    data_limit=2000,\n",
    "    tokenizer=False\n",
    ")\n",
    "\n",
    "print(len(train_dataset), \"train samples\")\n",
    "print(len(valid_dataset), \"validation samples\")\n",
    "print(train_dataset[0])"
   ]
  },
  {
   "cell_type": "code",
   "execution_count": 22,
   "metadata": {},
   "outputs": [
    {
     "name": "stdout",
     "output_type": "stream",
     "text": [
      "Using device: cuda\n",
      "Total train batches: 2150.171875\n",
      "### Epoch: 1 ###\n",
      "epoch: 0 batch: 24 loss: 2.4325\n",
      "epoch: 0 batch: 49 loss: 2.2688\n",
      "epoch: 0 batch: 74 loss: 2.2794\n",
      "epoch: 0 batch: 99 loss: 2.2773\n",
      "epoch: 0 batch: 124 loss: 2.2743\n",
      "epoch: 0 batch: 149 loss: 2.2694\n",
      "epoch: 0 batch: 174 loss: 2.2897\n",
      "epoch: 0 batch: 199 loss: 2.2798\n",
      "epoch: 0 batch: 224 loss: 2.2849\n",
      "epoch: 0 batch: 249 loss: 2.2788\n",
      "epoch: 0 batch: 274 loss: 2.2704\n",
      "epoch: 0 batch: 299 loss: 2.2683\n",
      "epoch: 0 batch: 324 loss: 2.2582\n",
      "epoch: 0 batch: 349 loss: 2.2461\n",
      "epoch: 0 batch: 374 loss: 2.2858\n",
      "epoch: 0 batch: 399 loss: 2.2875\n",
      "epoch: 0 batch: 424 loss: 2.2942\n",
      "epoch: 0 batch: 449 loss: 2.2589\n",
      "epoch: 0 batch: 474 loss: 2.2658\n",
      "epoch: 0 batch: 499 loss: 2.2857\n",
      "epoch: 0 batch: 524 loss: 2.2632\n",
      "epoch: 0 batch: 549 loss: 2.2694\n",
      "epoch: 0 batch: 574 loss: 2.2807\n",
      "epoch: 0 batch: 599 loss: 2.2670\n",
      "epoch: 0 batch: 624 loss: 2.2703\n",
      "epoch: 0 batch: 649 loss: 2.2709\n",
      "epoch: 0 batch: 674 loss: 2.2761\n",
      "epoch: 0 batch: 699 loss: 2.2910\n",
      "epoch: 0 batch: 724 loss: 2.2735\n",
      "epoch: 0 batch: 749 loss: 2.2666\n",
      "epoch: 0 batch: 774 loss: 2.2509\n",
      "epoch: 0 batch: 799 loss: 2.2748\n",
      "epoch: 0 batch: 824 loss: 2.2979\n",
      "epoch: 0 batch: 849 loss: 2.2476\n",
      "epoch: 0 batch: 874 loss: 2.2569\n",
      "epoch: 0 batch: 899 loss: 2.2622\n",
      "epoch: 0 batch: 924 loss: 2.2719\n",
      "epoch: 0 batch: 949 loss: 2.2612\n",
      "epoch: 0 batch: 974 loss: 2.2825\n",
      "epoch: 0 batch: 999 loss: 2.2761\n",
      "epoch: 0 batch: 1024 loss: 2.2500\n",
      "epoch: 0 batch: 1049 loss: 2.2576\n",
      "epoch: 0 batch: 1074 loss: 2.2563\n",
      "epoch: 0 batch: 1099 loss: 2.2575\n",
      "epoch: 0 batch: 1124 loss: 2.2556\n",
      "epoch: 0 batch: 1149 loss: 2.2366\n",
      "epoch: 0 batch: 1174 loss: 2.2447\n",
      "epoch: 0 batch: 1199 loss: 2.2700\n",
      "epoch: 0 batch: 1224 loss: 2.2458\n",
      "epoch: 0 batch: 1249 loss: 2.2863\n",
      "epoch: 0 batch: 1274 loss: 2.2405\n",
      "epoch: 0 batch: 1299 loss: 2.2639\n",
      "epoch: 0 batch: 1324 loss: 2.2373\n",
      "epoch: 0 batch: 1349 loss: 2.2503\n",
      "epoch: 0 batch: 1374 loss: 2.2465\n",
      "epoch: 0 batch: 1399 loss: 2.2480\n",
      "epoch: 0 batch: 1424 loss: 2.2146\n",
      "epoch: 0 batch: 1449 loss: 2.2157\n",
      "epoch: 0 batch: 1474 loss: 2.2578\n",
      "epoch: 0 batch: 1499 loss: 2.2405\n",
      "epoch: 0 batch: 1524 loss: 2.2454\n",
      "epoch: 0 batch: 1549 loss: 2.2142\n",
      "epoch: 0 batch: 1574 loss: 2.2040\n",
      "epoch: 0 batch: 1599 loss: 2.2184\n",
      "epoch: 0 batch: 1624 loss: 2.2425\n",
      "epoch: 0 batch: 1649 loss: 2.1968\n",
      "epoch: 0 batch: 1674 loss: 2.2051\n",
      "epoch: 0 batch: 1699 loss: 2.2235\n",
      "epoch: 0 batch: 1724 loss: 2.2244\n",
      "epoch: 0 batch: 1749 loss: 2.2126\n",
      "epoch: 0 batch: 1774 loss: 2.2004\n",
      "epoch: 0 batch: 1799 loss: 2.2180\n",
      "epoch: 0 batch: 1824 loss: 2.1955\n",
      "epoch: 0 batch: 1849 loss: 2.2041\n",
      "epoch: 0 batch: 1874 loss: 2.1830\n",
      "epoch: 0 batch: 1899 loss: 2.1884\n",
      "epoch: 0 batch: 1924 loss: 2.1954\n",
      "epoch: 0 batch: 1949 loss: 2.2051\n",
      "epoch: 0 batch: 1974 loss: 2.1902\n",
      "epoch: 0 batch: 1999 loss: 2.2113\n",
      "epoch: 0 batch: 2024 loss: 2.1933\n",
      "epoch: 0 batch: 2049 loss: 2.1973\n",
      "epoch: 0 batch: 2074 loss: 2.1844\n",
      "epoch: 0 batch: 2099 loss: 2.1831\n",
      "epoch: 0 batch: 2124 loss: 2.1768\n",
      "epoch: 0 batch: 2149 loss: 2.1667\n",
      "Evaluating...\n",
      "accuracy: 28.14%\n"
     ]
    },
    {
     "data": {
      "image/png": "[encoded data removed]",
      "text/plain": [
       "<Figure size 1000x500 with 1 Axes>"
      ]
     },
     "metadata": {},
     "output_type": "display_data"
    }
   ],
   "source": [
    "device = torch.device(\"cuda\" if torch.cuda.is_available() else \"cpu\")\n",
    "\n",
    "model = LSTMModel(embedding_matrix, num_classes=len(train_dataset.label_set))\n",
    "model_sd, best_model_sd, losses = train_lstm_classification(\n",
    "    model, train_dataset, valid_dataset, batch_size=128, epochs=1, device=device\n",
    ")\n",
    "\n",
    "plt.figure(figsize=(10, 5))\n",
    "plt.plot(losses)\n",
    "plt.title(\"Training Loss Over Time\")\n",
    "plt.xlabel(\"Logging Step\")\n",
    "plt.ylabel(\"Loss\")\n",
    "plt.grid(True)\n",
    "plt.show()"
   ]
  },
  {
   "cell_type": "code",
   "execution_count": 25,
   "metadata": {},
   "outputs": [
    {
     "name": "stdout",
     "output_type": "stream",
     "text": [
      "              precision    recall  f1-score   support\n",
      "\n",
      "          AZ       0.00      0.00      0.00      4317\n",
      "          CA       0.65      0.06      0.11      3488\n",
      "          DE       0.00      0.00      0.00       703\n",
      "          FL       0.28      0.18      0.22     11615\n",
      "          ID       0.00      0.00      0.00      1576\n",
      "          IL       0.00      0.00      0.00       518\n",
      "          IN       0.00      0.00      0.00      4898\n",
      "          LA       0.55      0.28      0.37      7617\n",
      "          MO       0.47      0.04      0.07      5024\n",
      "          NJ       0.00      0.00      0.00      2609\n",
      "          NV       0.00      0.00      0.00      4307\n",
      "          PA       0.26      0.92      0.40     15990\n",
      "          TN       0.00      0.00      0.00      6144\n",
      "\n",
      "    accuracy                           0.28     68806\n",
      "   macro avg       0.17      0.11      0.09     68806\n",
      "weighted avg       0.24      0.28      0.18     68806\n",
      "\n"
     ]
    },
    {
     "name": "stderr",
     "output_type": "stream",
     "text": [
      "C:\\Users\\danie\\AppData\\Local\\Packages\\PythonSoftwareFoundation.Python.3.10_qbz5n2kfra8p0\\LocalCache\\local-packages\\Python310\\site-packages\\sklearn\\metrics\\_classification.py:1565: UndefinedMetricWarning: Precision is ill-defined and being set to 0.0 in labels with no predicted samples. Use `zero_division` parameter to control this behavior.\n",
      "  _warn_prf(average, modifier, f\"{metric.capitalize()} is\", len(result))\n",
      "C:\\Users\\danie\\AppData\\Local\\Packages\\PythonSoftwareFoundation.Python.3.10_qbz5n2kfra8p0\\LocalCache\\local-packages\\Python310\\site-packages\\sklearn\\metrics\\_classification.py:1565: UndefinedMetricWarning: Precision is ill-defined and being set to 0.0 in labels with no predicted samples. Use `zero_division` parameter to control this behavior.\n",
      "  _warn_prf(average, modifier, f\"{metric.capitalize()} is\", len(result))\n",
      "C:\\Users\\danie\\AppData\\Local\\Packages\\PythonSoftwareFoundation.Python.3.10_qbz5n2kfra8p0\\LocalCache\\local-packages\\Python310\\site-packages\\sklearn\\metrics\\_classification.py:1565: UndefinedMetricWarning: Precision is ill-defined and being set to 0.0 in labels with no predicted samples. Use `zero_division` parameter to control this behavior.\n",
      "  _warn_prf(average, modifier, f\"{metric.capitalize()} is\", len(result))\n"
     ]
    }
   ],
   "source": [
    "from sklearn.metrics import classification_report\n",
    "\n",
    "def evaluate_model(model, dataset, device):\n",
    "    model.eval()\n",
    "    y_true = []\n",
    "    y_pred = []\n",
    "\n",
    "    with torch.no_grad():\n",
    "        for (x, x_lengths), y in torch.utils.data.DataLoader(dataset, batch_size=128):\n",
    "            x, x_lengths, y = x.to(device), x_lengths.to(device), y.to(device)\n",
    "\n",
    "            logits = model(x, x_lengths)\n",
    "            preds = torch.argmax(logits, dim=1)\n",
    "\n",
    "            y_true.extend(y.cpu().tolist())\n",
    "            y_pred.extend(preds.cpu().tolist())\n",
    "\n",
    "    # Generate classification report\n",
    "    report = classification_report(y_true, y_pred, target_names=dataset.label_set)\n",
    "    print(report)\n",
    "    return report\n",
    "\n",
    "# Evaluate the model on the validation dataset\n",
    "report = evaluate_model(model, valid_dataset, device=device)"
   ]
  },
  {
   "cell_type": "code",
   "execution_count": 39,
   "metadata": {},
   "outputs": [
    {
     "data": {
      "image/png": "[encoded data removed]",
      "text/plain": [
       "<Figure size 640x480 with 2 Axes>"
      ]
     },
     "metadata": {},
     "output_type": "display_data"
    }
   ],
   "source": [
    "from sklearn.metrics import confusion_matrix, ConfusionMatrixDisplay\n",
    "\n",
    "def plot_confusion_matrix(model, dataset, device):\n",
    "    model.eval()\n",
    "    y_true = []\n",
    "    y_pred = []\n",
    "\n",
    "    with torch.no_grad():\n",
    "        for (x, x_lengths), y in torch.utils.data.DataLoader(dataset, batch_size=128):\n",
    "            x, x_lengths, y = x.to(device), x_lengths.to(device), y.to(device)\n",
    "\n",
    "            logits = model(x, x_lengths)\n",
    "            preds = torch.argmax(logits, dim=1)\n",
    "\n",
    "            y_true.extend(y.cpu().tolist())\n",
    "            y_pred.extend(preds.cpu().tolist())\n",
    "\n",
    "    # Generate confusion matrix\n",
    "    cm = confusion_matrix(y_true, y_pred, labels=range(len(dataset.label_set)))\n",
    "    disp = ConfusionMatrixDisplay(confusion_matrix=cm, display_labels=dataset.label_set)\n",
    "    disp.plot(cmap='viridis', xticks_rotation=45)\n",
    "    plt.title(\"Confusion Matrix\")\n",
    "    plt.show()\n",
    "\n",
    "# Plot confusion matrix for the validation dataset\n",
    "plot_confusion_matrix(model, valid_dataset, device=device)"
   ]
  },
  {
   "cell_type": "code",
   "execution_count": 28,
   "metadata": {},
   "outputs": [
    {
     "data": {
      "application/vnd.jupyter.widget-view+json": {
       "model_id": "6f4852d28d30418884185f65b534d469",
       "version_major": 2,
       "version_minor": 0
      },
      "text/plain": [
       "Tokenizing examples:   0%|          | 0/5504438 [00:00<?, ?it/s]"
      ]
     },
     "metadata": {},
     "output_type": "display_data"
    },
    {
     "data": {
      "application/vnd.jupyter.widget-view+json": {
       "model_id": "3d61cc14493a4f2391134115e85b3ba6",
       "version_major": 2,
       "version_minor": 0
      },
      "text/plain": [
       "Tokenizing examples:   0%|          | 0/1376110 [00:00<?, ?it/s]"
      ]
     },
     "metadata": {},
     "output_type": "display_data"
    },
    {
     "name": "stdout",
     "output_type": "stream",
     "text": [
      "5504438 train samples\n",
      "1376110 validation samples\n",
      "((tensor([   354, 400001,   3224,   2697,   2070,      6,    497,   4346, 400001,\n",
      "            54,     41,     78,   3083,   2761,     22,      1,   2848,     12,\n",
      "         18789,  16031,    193, 400001,    552,     18,  12210,  14035,     16,\n",
      "            16,   3007,      6, 400001,   4232,      4,  12210,      6,    192,\n",
      "        400001,     53,   1299,  21519,  12210,  39811,     12,   3083,   1276,\n",
      "            11,    654, 400001,     42,     41,   7412,   9108,   7015,     18,\n",
      "          1904,  54692,      6, 400001,   1175,   9108,    192,  14982,      6,\n",
      "           937,     16, 400001,   3083, 400001,      0,      0,      0,      0,\n",
      "             0,      0,      0,      0,      0,      0,      0,      0,      0,\n",
      "             0,      0,      0,      0,      0,      0,      0,      0,      0,\n",
      "             0,      0,      0,      0,      0,      0,      0,      0,      0,\n",
      "             0,      0,      0,      0,      0,      0,      0,      0,      0,\n",
      "             0,      0,      0,      0,      0,      0,      0,      0,      0,\n",
      "             0,      0,      0,      0,      0,      0,      0,      0,      0,\n",
      "             0,      0,      0,      0,      0,      0,      0,      0,      0,\n",
      "             0,      0,      0,      0,      0,      0,      0,      0,      0,\n",
      "             0,      0,      0,      0,      0,      0,      0,      0,      0,\n",
      "             0,      0,      0,      0,      0,      0,      0,      0,      0,\n",
      "             0,      0,      0,      0,      0,      0,      0,      0,      0,\n",
      "             0,      0,      0,      0,      0,      0,      0,      0,      0,\n",
      "             0,      0,      0,      0,      0,      0,      0,      0,      0,\n",
      "             0,      0,      0,      0,      0,      0,      0,      0,      0,\n",
      "             0,      0,      0,      0,      0,      0,      0,      0,      0,\n",
      "             0,      0,      0,      0,      0,      0,      0,      0,      0,\n",
      "             0,      0,      0,      0,      0,      0,      0,      0,      0,\n",
      "             0,      0,      0,      0,      0,      0,      0,      0,      0,\n",
      "             0,      0,      0,      0,      0,      0,      0,      0,      0,\n",
      "             0,      0,      0,      0,      0,      0,      0,      0,      0,\n",
      "             0,      0,      0,      0]), 68), 3)\n"
     ]
    }
   ],
   "source": [
    "train_tokenized_df, valid_tokenized_df = train_test_split(reviews_by_state, test_size=0.2, random_state=42, stratify=reviews_by_state['state'])\n",
    "\n",
    "# Get label set from training only to ensure consistent mapping\n",
    "label_set = sorted(train_tokenized_df['state'].unique())\n",
    "\n",
    "# Create datasets\n",
    "train_tokenized_dataset = YelpReviewByStateDataset(\n",
    "    df=train_tokenized_df,\n",
    "    word2id=word2id,\n",
    "    label_set=label_set,\n",
    "    tokenizer=False\n",
    ")\n",
    "\n",
    "valid_tokenized_dataset = YelpReviewByStateDataset(\n",
    "    df=valid_tokenized_df,\n",
    "    word2id=word2id,\n",
    "    label_set=label_set,\n",
    "    tokenizer=False\n",
    ")\n",
    "\n",
    "print(len(train_tokenized_dataset), \"train samples\")\n",
    "print(len(valid_tokenized_dataset), \"validation samples\")\n",
    "print(train_tokenized_dataset[0])  # (tensor, label_id)"
   ]
  },
  {
   "cell_type": "code",
   "execution_count": 129,
   "metadata": {},
   "outputs": [
    {
     "ename": "AttributeError",
     "evalue": "'BertLSTMDataset' object has no attribute 'label_set'",
     "output_type": "error",
     "traceback": [
      "\u001b[1;31m---------------------------------------------------------------------------\u001b[0m",
      "\u001b[1;31mAttributeError\u001b[0m                            Traceback (most recent call last)",
      "Cell \u001b[1;32mIn [129], line 3\u001b[0m\n\u001b[0;32m      1\u001b[0m device \u001b[38;5;241m=\u001b[39m torch\u001b[38;5;241m.\u001b[39mdevice(\u001b[38;5;124m\"\u001b[39m\u001b[38;5;124mcuda\u001b[39m\u001b[38;5;124m\"\u001b[39m \u001b[38;5;28;01mif\u001b[39;00m torch\u001b[38;5;241m.\u001b[39mcuda\u001b[38;5;241m.\u001b[39mis_available() \u001b[38;5;28;01melse\u001b[39;00m \u001b[38;5;124m\"\u001b[39m\u001b[38;5;124mcpu\u001b[39m\u001b[38;5;124m\"\u001b[39m)\n\u001b[1;32m----> 3\u001b[0m model \u001b[38;5;241m=\u001b[39m LSTMModel(embedding_matrix, num_classes\u001b[38;5;241m=\u001b[39m\u001b[38;5;28mlen\u001b[39m(train_tokenized_dataset\u001b[38;5;241m.\u001b[39mlabel_set))\n\u001b[0;32m      4\u001b[0m model_sd, best_model_sd, losses \u001b[38;5;241m=\u001b[39m train_lstm_classification(\n\u001b[0;32m      5\u001b[0m     model, train_tokenized_dataset, valid_tokenized_dataset, batch_size\u001b[38;5;241m=\u001b[39m\u001b[38;5;241m128\u001b[39m, epochs\u001b[38;5;241m=\u001b[39m\u001b[38;5;241m1\u001b[39m, device\u001b[38;5;241m=\u001b[39mdevice\n\u001b[0;32m      6\u001b[0m )\n\u001b[0;32m      8\u001b[0m plt\u001b[38;5;241m.\u001b[39mfigure(figsize\u001b[38;5;241m=\u001b[39m(\u001b[38;5;241m10\u001b[39m, \u001b[38;5;241m5\u001b[39m))\n",
      "\u001b[1;31mAttributeError\u001b[0m: 'BertLSTMDataset' object has no attribute 'label_set'"
     ]
    }
   ],
   "source": [
    "device = torch.device(\"cuda\" if torch.cuda.is_available() else \"cpu\")\n",
    "\n",
    "model = LSTMModel(embedding_matrix, num_classes=len(train_tokenized_dataset.label_set))\n",
    "model_sd, best_model_sd, losses = train_lstm_classification(\n",
    "    model, train_tokenized_dataset, valid_tokenized_dataset, batch_size=128, epochs=1, device=device\n",
    ")\n",
    "\n",
    "plt.figure(figsize=(10, 5))\n",
    "plt.plot(losses)\n",
    "plt.title(\"Training Loss Over Time\")\n",
    "plt.xlabel(\"Logging Step\")\n",
    "plt.ylabel(\"Loss\")\n",
    "plt.grid(True)\n",
    "plt.show()"
   ]
  },
  {
   "cell_type": "code",
   "execution_count": 30,
   "metadata": {},
   "outputs": [
    {
     "name": "stdout",
     "output_type": "stream",
     "text": [
      "              precision    recall  f1-score   support\n",
      "\n",
      "          AZ       0.73      0.13      0.23      4317\n",
      "          CA       0.77      0.24      0.37      3488\n",
      "          DE       0.71      0.03      0.06       703\n",
      "          FL       0.29      0.54      0.38     11615\n",
      "          ID       0.92      0.11      0.19      1576\n",
      "          IL       0.00      0.00      0.00       518\n",
      "          IN       0.62      0.11      0.19      4898\n",
      "          LA       0.71      0.46      0.56      7617\n",
      "          MO       0.75      0.14      0.24      5024\n",
      "          NJ       0.82      0.05      0.10      2609\n",
      "          NV       0.76      0.13      0.23      4307\n",
      "          PA       0.34      0.75      0.47     15990\n",
      "          TN       0.60      0.20      0.30      6144\n",
      "\n",
      "    accuracy                           0.39     68806\n",
      "   macro avg       0.62      0.22      0.25     68806\n",
      "weighted avg       0.55      0.39      0.35     68806\n",
      "\n"
     ]
    }
   ],
   "source": [
    "from sklearn.metrics import classification_report\n",
    "\n",
    "def evaluate_model(model, dataset, device):\n",
    "    model.eval()\n",
    "    y_true = []\n",
    "    y_pred = []\n",
    "\n",
    "    with torch.no_grad():\n",
    "        for (x, x_lengths), y in torch.utils.data.DataLoader(dataset, batch_size=128):\n",
    "            x, x_lengths, y = x.to(device), x_lengths.to(device), y.to(device)\n",
    "\n",
    "            logits = model(x, x_lengths)\n",
    "            preds = torch.argmax(logits, dim=1)\n",
    "\n",
    "            y_true.extend(y.cpu().tolist())\n",
    "            y_pred.extend(preds.cpu().tolist())\n",
    "\n",
    "    # Generate classification report\n",
    "    report = classification_report(y_true, y_pred, target_names=dataset.label_set)\n",
    "    print(report)\n",
    "    return report\n",
    "\n",
    "# Evaluate the model on the validation dataset\n",
    "report = evaluate_model(model, valid_dataset, device=device)"
   ]
  },
  {
   "cell_type": "code",
   "execution_count": 31,
   "metadata": {},
   "outputs": [
    {
     "data": {
      "image/png": "[encoded data removed]",
      "text/plain": [
       "<Figure size 640x480 with 2 Axes>"
      ]
     },
     "metadata": {},
     "output_type": "display_data"
    }
   ],
   "source": [
    "from sklearn.metrics import confusion_matrix, ConfusionMatrixDisplay\n",
    "\n",
    "def plot_confusion_matrix(model, dataset, device):\n",
    "    model.eval()\n",
    "    y_true = []\n",
    "    y_pred = []\n",
    "\n",
    "    with torch.no_grad():\n",
    "        for (x, x_lengths), y in torch.utils.data.DataLoader(dataset, batch_size=128):\n",
    "            x, x_lengths, y = x.to(device), x_lengths.to(device), y.to(device)\n",
    "\n",
    "            logits = model(x, x_lengths)\n",
    "            preds = torch.argmax(logits, dim=1)\n",
    "\n",
    "            y_true.extend(y.cpu().tolist())\n",
    "            y_pred.extend(preds.cpu().tolist())\n",
    "\n",
    "    # Generate confusion matrix\n",
    "    cm = confusion_matrix(y_true, y_pred, labels=range(len(dataset.label_set)))\n",
    "    disp = ConfusionMatrixDisplay(confusion_matrix=cm, display_labels=dataset.label_set)\n",
    "    disp.plot(cmap='viridis', xticks_rotation=45)\n",
    "    plt.title(\"Confusion Matrix\")\n",
    "    plt.show()\n",
    "\n",
    "# Plot confusion matrix for the validation dataset\n",
    "plot_confusion_matrix(model, valid_dataset, device=device)"
   ]
  },
  {
   "cell_type": "code",
   "execution_count": 128,
   "metadata": {},
   "outputs": [
    {
     "data": {
      "text/plain": [
       "LSTMModelWithBERT(\n",
       "  (bert): BertModel(\n",
       "    (embeddings): BertEmbeddings(\n",
       "      (word_embeddings): Embedding(30522, 768, padding_idx=0)\n",
       "      (position_embeddings): Embedding(512, 768)\n",
       "      (token_type_embeddings): Embedding(2, 768)\n",
       "      (LayerNorm): LayerNorm((768,), eps=1e-12, elementwise_affine=True)\n",
       "      (dropout): Dropout(p=0.1, inplace=False)\n",
       "    )\n",
       "    (encoder): BertEncoder(\n",
       "      (layer): ModuleList(\n",
       "        (0-11): 12 x BertLayer(\n",
       "          (attention): BertAttention(\n",
       "            (self): BertSdpaSelfAttention(\n",
       "              (query): Linear(in_features=768, out_features=768, bias=True)\n",
       "              (key): Linear(in_features=768, out_features=768, bias=True)\n",
       "              (value): Linear(in_features=768, out_features=768, bias=True)\n",
       "              (dropout): Dropout(p=0.1, inplace=False)\n",
       "            )\n",
       "            (output): BertSelfOutput(\n",
       "              (dense): Linear(in_features=768, out_features=768, bias=True)\n",
       "              (LayerNorm): LayerNorm((768,), eps=1e-12, elementwise_affine=True)\n",
       "              (dropout): Dropout(p=0.1, inplace=False)\n",
       "            )\n",
       "          )\n",
       "          (intermediate): BertIntermediate(\n",
       "            (dense): Linear(in_features=768, out_features=3072, bias=True)\n",
       "            (intermediate_act_fn): GELUActivation()\n",
       "          )\n",
       "          (output): BertOutput(\n",
       "            (dense): Linear(in_features=3072, out_features=768, bias=True)\n",
       "            (LayerNorm): LayerNorm((768,), eps=1e-12, elementwise_affine=True)\n",
       "            (dropout): Dropout(p=0.1, inplace=False)\n",
       "          )\n",
       "        )\n",
       "      )\n",
       "    )\n",
       "    (pooler): BertPooler(\n",
       "      (dense): Linear(in_features=768, out_features=768, bias=True)\n",
       "      (activation): Tanh()\n",
       "    )\n",
       "  )\n",
       "  (lstm): LSTM(768, 50, batch_first=True, bidirectional=True)\n",
       "  (hidden_1): Linear(in_features=100, out_features=50, bias=True)\n",
       "  (hidden_2): Linear(in_features=50, out_features=1, bias=True)\n",
       "  (relu): ReLU()\n",
       ")"
      ]
     },
     "execution_count": 128,
     "metadata": {},
     "output_type": "execute_result"
    }
   ],
   "source": [
    "model.eval()"
   ]
  },
  {
   "cell_type": "code",
   "execution_count": null,
   "metadata": {},
   "outputs": [
    {
     "ename": "TypeError",
     "evalue": "LSTMModelWithBERT.forward() missing 1 required positional argument: 'input_lengths'",
     "output_type": "error",
     "traceback": [
      "\u001b[1;31m---------------------------------------------------------------------------\u001b[0m",
      "\u001b[1;31mTypeError\u001b[0m                                 Traceback (most recent call last)",
      "Cell \u001b[1;32mIn [127], line 8\u001b[0m\n\u001b[0;32m      6\u001b[0m \u001b[38;5;28;01mfor\u001b[39;00m (x, x_lengths), y \u001b[38;5;129;01min\u001b[39;00m torch\u001b[38;5;241m.\u001b[39mutils\u001b[38;5;241m.\u001b[39mdata\u001b[38;5;241m.\u001b[39mDataLoader(valid_dataset, batch_size\u001b[38;5;241m=\u001b[39m\u001b[38;5;241m128\u001b[39m):\n\u001b[0;32m      7\u001b[0m     x, x_lengths, y \u001b[38;5;241m=\u001b[39m x\u001b[38;5;241m.\u001b[39mto(device), x_lengths\u001b[38;5;241m.\u001b[39mto(device), y\u001b[38;5;241m.\u001b[39mto(device)\n\u001b[1;32m----> 8\u001b[0m     logits \u001b[38;5;241m=\u001b[39m model(x, x_lengths)\n\u001b[0;32m      9\u001b[0m     preds \u001b[38;5;241m=\u001b[39m torch\u001b[38;5;241m.\u001b[39margmax(logits, dim\u001b[38;5;241m=\u001b[39m\u001b[38;5;241m1\u001b[39m)\n\u001b[0;32m     11\u001b[0m     \u001b[38;5;28;01mfor\u001b[39;00m i, (true_label, pred_label) \u001b[38;5;129;01min\u001b[39;00m \u001b[38;5;28menumerate\u001b[39m(\u001b[38;5;28mzip\u001b[39m(y\u001b[38;5;241m.\u001b[39mcpu()\u001b[38;5;241m.\u001b[39mtolist(), preds\u001b[38;5;241m.\u001b[39mcpu()\u001b[38;5;241m.\u001b[39mtolist())):\n",
      "File \u001b[1;32m~\\AppData\\Local\\Packages\\PythonSoftwareFoundation.Python.3.10_qbz5n2kfra8p0\\LocalCache\\local-packages\\Python310\\site-packages\\torch\\nn\\modules\\module.py:1739\u001b[0m, in \u001b[0;36mModule._wrapped_call_impl\u001b[1;34m(self, *args, **kwargs)\u001b[0m\n\u001b[0;32m   1737\u001b[0m     \u001b[38;5;28;01mreturn\u001b[39;00m \u001b[38;5;28mself\u001b[39m\u001b[38;5;241m.\u001b[39m_compiled_call_impl(\u001b[38;5;241m*\u001b[39margs, \u001b[38;5;241m*\u001b[39m\u001b[38;5;241m*\u001b[39mkwargs)  \u001b[38;5;66;03m# type: ignore[misc]\u001b[39;00m\n\u001b[0;32m   1738\u001b[0m \u001b[38;5;28;01melse\u001b[39;00m:\n\u001b[1;32m-> 1739\u001b[0m     \u001b[38;5;28;01mreturn\u001b[39;00m \u001b[38;5;28mself\u001b[39m\u001b[38;5;241m.\u001b[39m_call_impl(\u001b[38;5;241m*\u001b[39margs, \u001b[38;5;241m*\u001b[39m\u001b[38;5;241m*\u001b[39mkwargs)\n",
      "File \u001b[1;32m~\\AppData\\Local\\Packages\\PythonSoftwareFoundation.Python.3.10_qbz5n2kfra8p0\\LocalCache\\local-packages\\Python310\\site-packages\\torch\\nn\\modules\\module.py:1750\u001b[0m, in \u001b[0;36mModule._call_impl\u001b[1;34m(self, *args, **kwargs)\u001b[0m\n\u001b[0;32m   1745\u001b[0m \u001b[38;5;66;03m# If we don't have any hooks, we want to skip the rest of the logic in\u001b[39;00m\n\u001b[0;32m   1746\u001b[0m \u001b[38;5;66;03m# this function, and just call forward.\u001b[39;00m\n\u001b[0;32m   1747\u001b[0m \u001b[38;5;28;01mif\u001b[39;00m \u001b[38;5;129;01mnot\u001b[39;00m (\u001b[38;5;28mself\u001b[39m\u001b[38;5;241m.\u001b[39m_backward_hooks \u001b[38;5;129;01mor\u001b[39;00m \u001b[38;5;28mself\u001b[39m\u001b[38;5;241m.\u001b[39m_backward_pre_hooks \u001b[38;5;129;01mor\u001b[39;00m \u001b[38;5;28mself\u001b[39m\u001b[38;5;241m.\u001b[39m_forward_hooks \u001b[38;5;129;01mor\u001b[39;00m \u001b[38;5;28mself\u001b[39m\u001b[38;5;241m.\u001b[39m_forward_pre_hooks\n\u001b[0;32m   1748\u001b[0m         \u001b[38;5;129;01mor\u001b[39;00m _global_backward_pre_hooks \u001b[38;5;129;01mor\u001b[39;00m _global_backward_hooks\n\u001b[0;32m   1749\u001b[0m         \u001b[38;5;129;01mor\u001b[39;00m _global_forward_hooks \u001b[38;5;129;01mor\u001b[39;00m _global_forward_pre_hooks):\n\u001b[1;32m-> 1750\u001b[0m     \u001b[38;5;28;01mreturn\u001b[39;00m forward_call(\u001b[38;5;241m*\u001b[39margs, \u001b[38;5;241m*\u001b[39m\u001b[38;5;241m*\u001b[39mkwargs)\n\u001b[0;32m   1752\u001b[0m result \u001b[38;5;241m=\u001b[39m \u001b[38;5;28;01mNone\u001b[39;00m\n\u001b[0;32m   1753\u001b[0m called_always_called_hooks \u001b[38;5;241m=\u001b[39m \u001b[38;5;28mset\u001b[39m()\n",
      "\u001b[1;31mTypeError\u001b[0m: LSTMModelWithBERT.forward() missing 1 required positional argument: 'input_lengths'"
     ]
    }
   ],
   "source": [
    "# Extract mislabeled examples for CA\n",
    "mislabeled_ca = []\n",
    "\n",
    "model.eval()\n",
    "with torch.no_grad():\n",
    "    for (x, x_lengths), y in torch.utils.data.DataLoader(valid_dataset, batch_size=128):\n",
    "        x, x_lengths, y = x.to(device), x_lengths.to(device), y.to(device)\n",
    "        logits = model(x, x_lengths)\n",
    "        preds = torch.argmax(logits, dim=1)\n",
    "\n",
    "        for i, (true_label, pred_label) in enumerate(zip(y.cpu().tolist(), preds.cpu().tolist())):\n",
    "            if true_label != pred_label and valid_dataset.id2label[true_label] == \"CA\":\n",
    "                mislabeled_ca.append((valid_dataset.df.iloc[i][\"text\"], \n",
    "                                      valid_dataset.id2label[true_label], \n",
    "                                      valid_dataset.id2label[pred_label]))\n",
    "\n",
    "# Display 25 mislabeled examples\n",
    "for text, true_label, pred_label in mislabeled_ca[:25]:\n",
    "    print(f\"Text: {text}\\nTrue Label: {true_label}, Predicted Label: {pred_label}\\n\")"
   ]
  },
  {
   "cell_type": "code",
   "execution_count": 126,
   "metadata": {},
   "outputs": [
    {
     "name": "stdout",
     "output_type": "stream",
     "text": [
      "The model has 109815341 parameters.\n"
     ]
    }
   ],
   "source": [
    "def count_model_parameters(model):\n",
    "    total_params = sum(p.numel() for p in model.parameters())\n",
    "    print(f\"The model has {total_params} parameters.\")\n",
    "\n",
    "count_model_parameters(model)"
   ]
  },
  {
   "cell_type": "code",
   "execution_count": 36,
   "metadata": {},
   "outputs": [
    {
     "name": "stdout",
     "output_type": "stream",
     "text": [
      "   State  Count  Percentage\n",
      "0     PA  15990   23.239252\n",
      "2     FL  11615   16.880795\n",
      "6     LA   7617   11.070256\n",
      "4     TN   6144    8.929454\n",
      "3     MO   5024    7.301689\n",
      "8     IN   4898    7.118565\n",
      "1     AZ   4317    6.274162\n",
      "7     NV   4307    6.259629\n",
      "5     CA   3488    5.069325\n",
      "9     NJ   2609    3.791820\n",
      "10    ID   1576    2.290498\n",
      "11    DE    703    1.021713\n",
      "12    IL    518    0.752841\n"
     ]
    },
    {
     "data": {
      "image/png": "[encoded data removed]",
      "text/plain": [
       "<Figure size 1000x600 with 1 Axes>"
      ]
     },
     "metadata": {},
     "output_type": "display_data"
    }
   ],
   "source": [
    "from collections import Counter\n",
    "import pandas as pd\n",
    "import matplotlib.pyplot as plt\n",
    "\n",
    "# Step 1: Extract label IDs from the validation set\n",
    "label_ids = [label for (_, label) in valid_dataset.data]\n",
    "\n",
    "# Step 2: Count how many times each label appears\n",
    "label_counts = Counter(label_ids)\n",
    "\n",
    "# Step 3: Map label IDs back to state names\n",
    "label_names = [valid_dataset.id2label[i] for i in label_counts.keys()]\n",
    "counts = list(label_counts.values())\n",
    "\n",
    "# Step 4: Create a DataFrame\n",
    "df = pd.DataFrame({\n",
    "    'State': label_names,\n",
    "    'Count': counts\n",
    "})\n",
    "df['Percentage'] = 100 * df['Count'] / df['Count'].sum()\n",
    "df = df.sort_values(by='Percentage', ascending=False)\n",
    "\n",
    "# Step 5: Print it\n",
    "print(df)\n",
    "\n",
    "# Step 6: Plot it\n",
    "plt.figure(figsize=(10, 6))\n",
    "plt.bar(df['State'], df['Percentage'], color='salmon')\n",
    "plt.title('Percentage of Reviews per State (Validation/Test Dataset)')\n",
    "plt.xlabel('State')\n",
    "plt.ylabel('Percentage (%)')\n",
    "plt.xticks(rotation=45)\n",
    "plt.tight_layout()\n",
    "plt.show()\n"
   ]
  },
  {
   "cell_type": "code",
   "execution_count": null,
   "metadata": {},
   "outputs": [],
   "source": [
    "import torch\n",
    "from collections import Counter\n",
    "import pandas as pd\n",
    "import matplotlib.pyplot as plt\n",
    "\n",
    "def plot_correct_predictions_by_state(model, dataset, device):\n",
    "    model.eval()\n",
    "    correct_counts = Counter()\n",
    "    total_counts = Counter()\n",
    "\n",
    "    with torch.no_grad():\n",
    "        for (x, x_lengths), y in torch.utils.data.DataLoader(dataset, batch_size=128):\n",
    "            x, x_lengths, y = x.to(device), x_lengths.to(device), y.to(device)\n",
    "\n",
    "            logits = model(x, x_lengths)\n",
    "            preds = torch.argmax(logits, dim=1)\n",
    "\n",
    "            for true_label, pred_label in zip(y.cpu().tolist(), preds.cpu().tolist()):\n",
    "                state = dataset.id2label[true_label]\n",
    "                total_counts[state] += 1\n",
    "                if true_label == pred_label:\n",
    "                    correct_counts[state] += 1\n",
    "\n",
    "    # Create a DataFrame\n",
    "    df = pd.DataFrame({\n",
    "        'State': list(total_counts.keys()),\n",
    "        'Correct': [correct_counts[s] for s in total_counts.keys()],\n",
    "        'Total': [total_counts[s] for s in total_counts.keys()],\n",
    "    })\n",
    "    df['Accuracy (%)'] = 100 * df['Correct'] / df['Total']\n",
    "    df = df.sort_values(by='Accuracy (%)', ascending=False)\n",
    "\n",
    "    # Plot\n",
    "    plt.figure(figsize=(12, 6))\n",
    "    plt.bar(df['State'], df['Correct'], color='green')\n",
    "    plt.title('Correctly Labeled Reviews per State (Validation Set)')\n",
    "    plt.xlabel('State')\n",
    "    plt.ylabel('Correct Predictions')\n",
    "    plt.xticks(rotation=45)\n",
    "    plt.tight_layout()\n",
    "    plt.show()\n",
    "\n",
    "    return df\n"
   ]
  },
  {
   "cell_type": "code",
   "execution_count": null,
   "metadata": {},
   "outputs": [
    {
     "ename": "NameError",
     "evalue": "name 'plot_correct_predictions_by_state' is not defined",
     "output_type": "error",
     "traceback": [
      "\u001b[1;31m---------------------------------------------------------------------------\u001b[0m",
      "\u001b[1;31mNameError\u001b[0m                                 Traceback (most recent call last)",
      "Cell \u001b[1;32mIn [122], line 1\u001b[0m\n\u001b[1;32m----> 1\u001b[0m df_accuracy \u001b[38;5;241m=\u001b[39m plot_correct_predictions_by_state(model, valid_dataset, device\u001b[38;5;241m=\u001b[39mdevice)\n",
      "\u001b[1;31mNameError\u001b[0m: name 'plot_correct_predictions_by_state' is not defined"
     ]
    }
   ],
   "source": [
    "df_accuracy = plot_correct_predictions_by_state(model, valid_dataset, device=device)"
   ]
  },
  {
   "cell_type": "code",
   "execution_count": null,
   "metadata": {},
   "outputs": [],
   "source": [
    "valid_tokenized_dataset = valid_dataset\n",
    "\n",
    "df_accuracy = plot_correct_predictions_by_state(model, valid_tokenized_dataset, device=device)"
   ]
  },
  {
   "cell_type": "markdown",
   "metadata": {},
   "source": [
    "### Attempt at BERT below"
   ]
  },
  {
   "cell_type": "code",
   "execution_count": null,
   "metadata": {},
   "outputs": [],
   "source": [
    "from transformers import BertTokenizer\n",
    "from torch.utils.data import Dataset\n",
    "from tqdm import tqdm\n",
    "\n",
    "class YelpReviewByStateBERTDataset(Dataset):\n",
    "    def __init__(self, csv_path=None, df=None, tokenizer=None, max_length=256, data_limit=None, label_set=None):\n",
    "\n",
    "\n",
    "        self.tokenizer = tokenizer or BertTokenizer.from_pretrained('bert-base-uncased')\n",
    "        self.max_length = max_length\n",
    "\n",
    "        # Load data\n",
    "        if df is not None:\n",
    "            self.df = df.copy()\n",
    "        else:\n",
    "            self.df = pd.read_csv(csv_path, compression='gzip', usecols=['text', 'state'])\n",
    "\n",
    "        if data_limit:\n",
    "            self.df = self.df.sample(n=data_limit, random_state=42).reset_index(drop=True)\n",
    "\n",
    "        # Label setup\n",
    "        if label_set is None:\n",
    "            self.label_set = sorted(self.df['state'].unique())\n",
    "        else:\n",
    "            self.label_set = label_set\n",
    "\n",
    "        self.label2id = {label: idx for idx, label in enumerate(self.label_set)}\n",
    "        self.id2label = {idx: label for label, idx in self.label2id.items()}\n",
    "\n",
    "        self.data = self.tokenize(self.df['text'].tolist(), self.df['state'].tolist())\n",
    "\n",
    "    def tokenize(self, texts, labels, chunk_size=1024):\n",
    "        examples = []\n",
    "        for i in tqdm(range(0, len(texts), chunk_size), desc=\"Batch Tokenizing with BERT\"):\n",
    "            batch_texts = texts[i:i+chunk_size]\n",
    "            batch_labels = labels[i:i+chunk_size]\n",
    "\n",
    "            encoded = self.tokenizer(\n",
    "                batch_texts,\n",
    "                padding='max_length',\n",
    "                truncation=True,\n",
    "                max_length=self.max_length,\n",
    "                return_tensors='pt'\n",
    "            )\n",
    "\n",
    "            examples.extend([\n",
    "                {\n",
    "                    'input_ids': encoded['input_ids'][j],\n",
    "                    'attention_mask': encoded['attention_mask'][j],\n",
    "                    'label': torch.tensor(self.label2id[batch_labels[j]], dtype=torch.long)\n",
    "                }\n",
    "                for j in range(len(batch_texts))\n",
    "            ])\n",
    "        return examples\n",
    "\n",
    "\n",
    "\n",
    "    def __getitem__(self, idx):\n",
    "        return self.data[idx]\n",
    "\n",
    "    def __len__(self):\n",
    "        return len(self.data)\n"
   ]
  },
  {
   "cell_type": "code",
   "execution_count": 146,
   "metadata": {},
   "outputs": [],
   "source": [
    "from transformers import BertModel\n",
    "\n",
    "class BERT_LSTM_Model(nn.Module):\n",
    "    def __init__(self, num_classes, lstm_hidden_size=128, num_lstm_layers=1, bidirectional=True):\n",
    "        super().__init__()\n",
    "        self.bert = BertModel.from_pretrained(\"bert-base-uncased\")\n",
    "        \n",
    "        # Freeze BERT to use as feature extractor\n",
    "        for param in self.bert.parameters():\n",
    "            param.requires_grad = False\n",
    "\n",
    "        self.lstm = nn.LSTM(\n",
    "            input_size=768,\n",
    "            hidden_size=lstm_hidden_size,\n",
    "            num_layers=num_lstm_layers,\n",
    "            bidirectional=bidirectional,\n",
    "            batch_first=True\n",
    "        )\n",
    "\n",
    "        self.hidden_1 = nn.Linear(lstm_hidden_size * 2 if bidirectional else lstm_hidden_size, lstm_hidden_size)\n",
    "        self.hidden_2 = nn.Linear(lstm_hidden_size, num_classes)\n",
    "        self.relu = nn.ReLU()\n",
    "        self.num_directions = 2 if bidirectional else 1\n",
    "\n",
    "    def forward(self, input_ids, attention_mask):\n",
    "        with torch.no_grad():\n",
    "            bert_outputs = self.bert(input_ids=input_ids, attention_mask=attention_mask)\n",
    "        sequence_output = bert_outputs.last_hidden_state  # (B, T, 768)\n",
    "\n",
    "        # Feed to LSTM\n",
    "        lstm_out, (hn, cn) = self.lstm(sequence_output)\n",
    "\n",
    "        # hn: (num_layers * num_directions, B, H)\n",
    "        # Take last layer's forward and backward hidden states\n",
    "        hn_view = hn.view(self.lstm.num_layers, self.num_directions, input_ids.size(0), self.lstm.hidden_size)\n",
    "        last_layer = hn_view[-1]\n",
    "        if self.num_directions == 2:\n",
    "            hn_cat = torch.cat((last_layer[0], last_layer[1]), dim=1)\n",
    "        else:\n",
    "            hn_cat = last_layer[0]\n",
    "\n",
    "        hid = self.relu(self.hidden_1(hn_cat))\n",
    "        out = self.hidden_2(hid)\n",
    "        return out\n"
   ]
  },
  {
   "cell_type": "code",
   "execution_count": 148,
   "metadata": {},
   "outputs": [],
   "source": [
    "def evaluate_lstm_model(model, dataloader, device):\n",
    "    model.eval()\n",
    "    correct = 0\n",
    "    total = 0\n",
    "\n",
    "    with torch.no_grad():\n",
    "        for batch in dataloader:\n",
    "            input_ids = batch['input_ids'].to(device)\n",
    "            attention_mask = batch['attention_mask'].to(device)\n",
    "            labels = batch['label'].to(device)\n",
    "\n",
    "            outputs = model(input_ids, attention_mask)\n",
    "            preds = torch.argmax(outputs, dim=1)\n",
    "            correct += (preds == labels).sum().item()\n",
    "            total += labels.size(0)\n",
    "\n",
    "    return correct / total\n"
   ]
  },
  {
   "cell_type": "code",
   "execution_count": 154,
   "metadata": {},
   "outputs": [],
   "source": [
    "def train_bert_lstm_classification(model, train_dataset, valid_dataset, epochs=10, batch_size=32, learning_rate=1e-4, print_frequency=25, device=None):\n",
    "    import copy\n",
    "    from torch.utils.data import DataLoader\n",
    "    from tqdm import tqdm\n",
    "    import torch.nn as nn\n",
    "    import torch\n",
    "\n",
    "    if device is None:\n",
    "        device = torch.device(\"cuda\" if torch.cuda.is_available() else \"cpu\")\n",
    "    print(f\"Using device: {device}\")\n",
    "\n",
    "    model = model.to(device)\n",
    "    criterion = nn.CrossEntropyLoss()\n",
    "    optimizer = torch.optim.AdamW(model.parameters(), lr=learning_rate)\n",
    "\n",
    "    train_dataloader = DataLoader(train_dataset, batch_size=batch_size, shuffle=True)\n",
    "    valid_dataloader = DataLoader(valid_dataset, batch_size=128, shuffle=False)\n",
    "\n",
    "    best_accuracy = 0.0\n",
    "    best_model_sd = None\n",
    "    all_losses = []\n",
    "\n",
    "    for epoch in range(epochs):\n",
    "        print(f'\\n### Epoch {epoch + 1}/{epochs} ###')\n",
    "        model.train()\n",
    "        running_loss = 0.0\n",
    "\n",
    "        for step, batch in enumerate(tqdm(train_dataloader, desc=\"Training\")):\n",
    "            input_ids = batch['input_ids'].to(device)\n",
    "            attention_mask = batch['attention_mask'].to(device)\n",
    "            labels = batch['label'].to(device)\n",
    "\n",
    "            optimizer.zero_grad()\n",
    "            outputs = model(input_ids, attention_mask)\n",
    "            loss = criterion(outputs, labels)\n",
    "            loss.backward()\n",
    "            optimizer.step()\n",
    "\n",
    "            running_loss += loss.item()\n",
    "            if (step + 1) % print_frequency == 0:\n",
    "                avg_loss = running_loss / print_frequency\n",
    "                print(f\"Epoch {epoch + 1}, Step {step + 1}, Loss: {avg_loss:.4f}\")\n",
    "                all_losses.append(avg_loss)\n",
    "                running_loss = 0.0\n",
    "\n",
    "        print(\"Evaluating...\")\n",
    "        acc = evaluate_lstm_model(model, valid_dataloader, device)\n",
    "        print(f\"Validation Accuracy: {acc:.2%}\")\n",
    "\n",
    "        if acc > best_accuracy:\n",
    "            best_model_sd = copy.deepcopy(model.state_dict())\n",
    "            best_accuracy = acc\n",
    "\n",
    "    return model.state_dict(), best_model_sd, all_losses\n"
   ]
  },
  {
   "cell_type": "code",
   "execution_count": 149,
   "metadata": {},
   "outputs": [],
   "source": [
    "from sklearn.model_selection import train_test_split\n",
    "\n",
    "train_df, val_df = train_test_split(reviews_by_state_trimmed, test_size=0.1, stratify=reviews_by_state_trimmed['state'], random_state=42)\n"
   ]
  },
  {
   "cell_type": "code",
   "execution_count": 150,
   "metadata": {},
   "outputs": [
    {
     "name": "stderr",
     "output_type": "stream",
     "text": [
      "Batch Tokenizing with BERT: 100%|██████████| 303/303 [09:40<00:00,  1.92s/it]\n",
      "Batch Tokenizing with BERT: 100%|██████████| 34/34 [01:03<00:00,  1.86s/it]\n"
     ]
    }
   ],
   "source": [
    "from transformers import BertTokenizer\n",
    "\n",
    "tokenizer = BertTokenizer.from_pretrained('bert-base-uncased')\n",
    "\n",
    "train_dataset = YelpReviewByStateBERTDataset(df=train_df, tokenizer=tokenizer, max_length=128)\n",
    "val_dataset = YelpReviewByStateBERTDataset(df=val_df, tokenizer=tokenizer, max_length=128, label_set=train_dataset.label_set)"
   ]
  },
  {
   "cell_type": "code",
   "execution_count": 152,
   "metadata": {},
   "outputs": [],
   "source": [
    "model = BERT_LSTM_Model(num_classes=len(train_dataset.label_set))\n"
   ]
  },
  {
   "cell_type": "code",
   "execution_count": null,
   "metadata": {},
   "outputs": [],
   "source": [
    "import time\n",
    "model.eval()\n",
    "batch = next(iter(train_dataloader))\n",
    "input_ids = batch['input_ids'].to(device)\n",
    "attention_mask = batch['attention_mask'].to(device)\n",
    "\n",
    "start = time.time()\n",
    "with torch.no_grad():\n",
    "    _ = model(input_ids, attention_mask)\n",
    "print(f\"Time for one forward pass: {time.time() - start:.2f}s\")\n"
   ]
  },
  {
   "cell_type": "code",
   "execution_count": null,
   "metadata": {},
   "outputs": [
    {
     "name": "stdout",
     "output_type": "stream",
     "text": [
      "Using device: cuda\n",
      "\n",
      "### Epoch 1/3 ###\n"
     ]
    },
    {
     "name": "stderr",
     "output_type": "stream",
     "text": [
      "Training:   0%|          | 0/9676 [00:00<?, ?it/s]"
     ]
    }
   ],
   "source": [
    "# state_dict, best_model_sd, loss_history = train_bert_lstm_classification(\n",
    "#     model,\n",
    "#     train_dataset=train_dataset,\n",
    "#     valid_dataset=val_dataset,\n",
    "#     epochs=3,\n",
    "#     batch_size=32,\n",
    "#     learning_rate=1e-4,\n",
    "#     print_frequency=100\n",
    "# )\n"
   ]
  },
  {
   "cell_type": "code",
   "execution_count": null,
   "metadata": {},
   "outputs": [],
   "source": [
    "# Load best model weights before final evaluation\n",
    "model.load_state_dict(best_model_sd)\n",
    "\n",
    "# Final eval on validation set\n",
    "final_acc = evaluate_lstm_model(model, torch.utils.data.DataLoader(val_dataset, batch_size=64), device=torch.device(\"cuda\" if torch.cuda.is_available() else \"cpu\"))\n",
    "print(f\"Final Validation Accuracy: {final_acc:.2%}\")\n"
   ]
  }
 ],
 "metadata": {
  "kernelspec": {
   "display_name": "Python 3",
   "language": "python",
   "name": "python3"
  },
  "language_info": {
   "codemirror_mode": {
    "name": "ipython",
    "version": 3
   },
   "file_extension": ".py",
   "mimetype": "text/x-python",
   "name": "python",
   "nbconvert_exporter": "python",
   "pygments_lexer": "ipython3",
   "version": "3.10.11"
  },
  "orig_nbformat": 4
 },
 "nbformat": 4,
 "nbformat_minor": 2
}
