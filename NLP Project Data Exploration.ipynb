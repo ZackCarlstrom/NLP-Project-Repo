{
 "cells": [
  {
   "cell_type": "code",
   "execution_count": 1,
   "id": "6a105405",
   "metadata": {},
   "outputs": [
    {
     "name": "stdout",
     "output_type": "stream",
     "text": [
      "Requirement already satisfied: altair in c:\\users\\zackc\\anaconda3\\lib\\site-packages (5.5.0)\n",
      "Requirement already satisfied: jsonschema>=3.0 in c:\\users\\zackc\\anaconda3\\lib\\site-packages (from altair) (4.16.0)\n",
      "Requirement already satisfied: narwhals>=1.14.2 in c:\\users\\zackc\\anaconda3\\lib\\site-packages (from altair) (1.35.0)\n",
      "Requirement already satisfied: jinja2 in c:\\users\\zackc\\anaconda3\\lib\\site-packages (from altair) (2.11.3)\n",
      "Requirement already satisfied: typing-extensions>=4.10.0 in c:\\users\\zackc\\anaconda3\\lib\\site-packages (from altair) (4.13.2)\n",
      "Requirement already satisfied: packaging in c:\\users\\zackc\\anaconda3\\lib\\site-packages (from altair) (21.3)\n",
      "Requirement already satisfied: attrs>=17.4.0 in c:\\users\\zackc\\anaconda3\\lib\\site-packages (from jsonschema>=3.0->altair) (21.4.0)\n",
      "Requirement already satisfied: pyrsistent!=0.17.0,!=0.17.1,!=0.17.2,>=0.14.0 in c:\\users\\zackc\\anaconda3\\lib\\site-packages (from jsonschema>=3.0->altair) (0.18.0)\n",
      "Requirement already satisfied: MarkupSafe>=0.23 in c:\\users\\zackc\\anaconda3\\lib\\site-packages (from jinja2->altair) (2.0.1)\n",
      "Requirement already satisfied: pyparsing!=3.0.5,>=2.0.2 in c:\\users\\zackc\\anaconda3\\lib\\site-packages (from packaging->altair) (3.0.9)\n"
     ]
    }
   ],
   "source": [
    "!pip install altair\n"
   ]
  },
  {
   "cell_type": "code",
   "execution_count": 2,
   "id": "27e39e0e",
   "metadata": {},
   "outputs": [],
   "source": [
    "# Imports\n",
    "import pandas as pd\n",
    "import json\n",
    "import csv\n",
    "import altair as alt"
   ]
  },
  {
   "cell_type": "code",
   "execution_count": 3,
   "id": "c59f6627",
   "metadata": {},
   "outputs": [
    {
     "name": "stdout",
     "output_type": "stream",
     "text": [
      " Loaded 500000 reviews...\n",
      " Loaded 1000000 reviews...\n",
      " Loaded 1500000 reviews...\n",
      " Loaded 2000000 reviews...\n",
      " Loaded 2500000 reviews...\n",
      " Loaded 3000000 reviews...\n",
      " Loaded 3500000 reviews...\n",
      " Loaded 4000000 reviews...\n",
      " Loaded 4500000 reviews...\n",
      " Loaded 5000000 reviews...\n",
      " Loaded 5500000 reviews...\n",
      " Loaded 6000000 reviews...\n",
      " Loaded 6500000 reviews...\n",
      "\n",
      " Final dataset shape: (6990280, 2)\n"
     ]
    }
   ],
   "source": [
    "# Path to Reviews Dataset, change to local path\n",
    "reviews_path = \"D:\\\\Yelp-JSON\\\\Yelp JSON\\\\yelp_dataset\\\\yelp_academic_dataset_review.json\"\n",
    "\n",
    "reviews = []\n",
    "\n",
    "# Loop over each line in json file, avoid memory errors\n",
    "with open(reviews_path, 'r', encoding='utf-8') as f:\n",
    "    for i, line in enumerate(f):\n",
    "        obj = json.loads(line)\n",
    "\n",
    "        # Keep only business_id and text\n",
    "        review = {\n",
    "            \"business_id\": obj[\"business_id\"],\n",
    "            \"text\": obj[\"text\"]\n",
    "        }\n",
    "\n",
    "        reviews.append(review)\n",
    "\n",
    "    \n",
    "        if (i + 1) % 500000 == 0:\n",
    "            print(f\" Loaded {i+1} reviews...\")\n",
    "\n",
    "            \n",
    "# Convert List to DF\n",
    "reviewsDF = pd.DataFrame(reviews)\n",
    "print(f\"\\n Final dataset shape: {reviewsDF.shape}\")\n"
   ]
  },
  {
   "cell_type": "code",
   "execution_count": 17,
   "id": "86b11e60",
   "metadata": {},
   "outputs": [
    {
     "name": "stdout",
     "output_type": "stream",
     "text": [
      "              business_id                                               text\n",
      "0  XQfwVwDr-v0ZS3_CbbE5Xw  If you decide to eat here, just be aware it is...\n",
      "1  7ATYjTIgM3jUlt4UM3IypQ  I've taken a lot of spin classes over the year...\n",
      "2  YjUWPpI6HXG530lwP-fb2A  Family diner. Had the buffet. Eclectic assortm...\n",
      "3  kxX2SOes4o-D3ZQBkiMRfA  Wow!  Yummy, different,  delicious.   Our favo...\n",
      "4  e4Vwtrqf-wpJfwesgvdgxQ  Cute interior and owner (?) gave us tour of up...\n"
     ]
    }
   ],
   "source": [
    "# Check first 5 results\n",
    "print(reviewsDF.head())"
   ]
  },
  {
   "cell_type": "code",
   "execution_count": 5,
   "id": "80e17059",
   "metadata": {},
   "outputs": [
    {
     "name": "stdout",
     "output_type": "stream",
     "text": [
      "Final shape: (150346, 3)\n"
     ]
    }
   ],
   "source": [
    "# Path to Businesses Dataset, change to local path\n",
    "businesses_path = \"D:\\\\Yelp-JSON\\\\Yelp JSON\\\\yelp_dataset\\\\yelp_academic_dataset_business.json\"\n",
    "\n",
    "# Load in data\n",
    "businessesDF = pd.read_json(businesses_path, lines=True)\n",
    "\n",
    "# Filter to only needed columns\n",
    "businessesDF = businessesDF[[\"business_id\", \"city\", \"state\"]]\n",
    "\n",
    "# Check DF shape\n",
    "print(f\"Final shape: {businessesDF.shape}\")\n"
   ]
  },
  {
   "cell_type": "code",
   "execution_count": 6,
   "id": "23ccec84",
   "metadata": {},
   "outputs": [
    {
     "name": "stdout",
     "output_type": "stream",
     "text": [
      "              business_id           city state\n",
      "0  Pns2l4eNsfO8kk83dixA6A  Santa Barbara    CA\n",
      "1  mpf3x-BjTdTEA3yCZrAYPw         Affton    MO\n",
      "2  tUFrWirKiKi_TAnsVWINQQ         Tucson    AZ\n",
      "3  MTSW4McQd7CbVtyjqoe9mw   Philadelphia    PA\n",
      "4  mWMc6_wTdE0EUBKIGXDVfA     Green Lane    PA\n"
     ]
    }
   ],
   "source": [
    "# Check first 5 results\n",
    "print(businessesDF.head())"
   ]
  },
  {
   "cell_type": "code",
   "execution_count": 7,
   "id": "af613bd8",
   "metadata": {},
   "outputs": [
    {
     "name": "stdout",
     "output_type": "stream",
     "text": [
      "              business_id                                               text  \\\n",
      "0  XQfwVwDr-v0ZS3_CbbE5Xw  If you decide to eat here, just be aware it is...   \n",
      "1  XQfwVwDr-v0ZS3_CbbE5Xw  This is the second time we tried turning point...   \n",
      "2  XQfwVwDr-v0ZS3_CbbE5Xw  The place is cute and the staff was very frien...   \n",
      "3  XQfwVwDr-v0ZS3_CbbE5Xw  We came on a Saturday morning after waiting a ...   \n",
      "4  XQfwVwDr-v0ZS3_CbbE5Xw  Mediocre at best. The decor is very nice, and ...   \n",
      "\n",
      "          city state  \n",
      "0  North Wales    PA  \n",
      "1  North Wales    PA  \n",
      "2  North Wales    PA  \n",
      "3  North Wales    PA  \n",
      "4  North Wales    PA  \n"
     ]
    }
   ],
   "source": [
    "# Merge reviews with city and state information using business_id\n",
    "reviewLocationDF = pd.merge(reviewsDF, businessesDF, on=\"business_id\", how=\"inner\")\n",
    "\n",
    "# Print first 5 results\n",
    "print(reviewLocationDF.head())"
   ]
  },
  {
   "cell_type": "code",
   "execution_count": 8,
   "id": "407987ad",
   "metadata": {},
   "outputs": [
    {
     "name": "stdout",
     "output_type": "stream",
     "text": [
      "Filtered shape: (6880548, 4)\n",
      "States included: ['PA' 'AZ' 'LA' 'CA' 'FL' 'IN' 'MO' 'TN' 'NV' 'NJ' 'IL' 'ID' 'DE']\n",
      "\n",
      "Final review counts by state:\n",
      "   state  review_count\n",
      "0     PA       1598960\n",
      "1     FL       1161545\n",
      "2     LA        761673\n",
      "3     TN        614388\n",
      "4     MO        502385\n",
      "5     IN        489752\n",
      "6     AZ        431708\n",
      "7     NV        430678\n",
      "8     CA        348856\n",
      "9     NJ        260897\n",
      "10    ID        157572\n",
      "11    DE         70302\n",
      "12    IL         51832\n"
     ]
    }
   ],
   "source": [
    "# Count by states and set columns\n",
    "state_counts = reviewLocationDF[\"state\"].value_counts().reset_index()\n",
    "state_counts.columns = [\"state\", \"review_count\"]\n",
    "\n",
    "# Filter by > 50,000 reviews and only U.S. states\n",
    "valid_states = state_counts[(state_counts[\"review_count\"] >= 50000) & (state_counts[\"state\"] != \"AB\")][\"state\"]\n",
    "\n",
    "# Filter the original DF\n",
    "reviewLocationDF = reviewLocationDF[reviewLocationDF[\"state\"].isin(valid_states)]\n",
    "\n",
    "# Recount reviews by state\n",
    "state_counts = reviewLocationDF[\"state\"].value_counts().reset_index()\n",
    "state_counts.columns = [\"state\", \"review_count\"]\n",
    "state_counts = state_counts.sort_values(by=\"review_count\", ascending=False)\n",
    "\n",
    "# Print Results\n",
    "print(f\"Filtered shape: {reviewLocationDF.shape}\")\n",
    "print(\"States included:\", reviewLocationDF['state'].unique())\n",
    "print(\"\\nFinal review counts by state:\")\n",
    "print(state_counts)\n"
   ]
  },
  {
   "cell_type": "code",
   "execution_count": 9,
   "id": "93077083",
   "metadata": {},
   "outputs": [
    {
     "name": "stdout",
     "output_type": "stream",
     "text": [
      "                  city  review_count\n",
      "843       Philadelphia        967552\n",
      "736        New Orleans        635364\n",
      "1122             Tampa        454847\n",
      "723          Nashville        451566\n",
      "1174            Tucson        404865\n",
      "494       Indianapolis        361489\n",
      "902               Reno        351573\n",
      "981      Santa Barbara        269630\n",
      "963        Saint Louis        253437\n",
      "86               Boise        105366\n",
      "196         Clearwater         87442\n",
      "968   Saint Petersburg         78907\n",
      "1042            Sparks         73033\n",
      "658           Metairie         64361\n",
      "1074         St. Louis         63451\n",
      "368           Franklin         56783\n",
      "1080    St. Petersburg         54480\n",
      "405             Goleta         45643\n",
      "1293        Wilmington         44814\n",
      "100            Brandon         43464\n"
     ]
    }
   ],
   "source": [
    "city_counts = reviewLocationDF.groupby([\"city\"]).size().reset_index(name=\"review_count\")\n",
    "\n",
    "# Sort by review count descending\n",
    "city_counts = city_counts.sort_values(by=\"review_count\", ascending=False)\n",
    "\n",
    "# Print top results\n",
    "print(city_counts.head(20))"
   ]
  },
  {
   "cell_type": "code",
   "execution_count": 10,
   "id": "250775e5",
   "metadata": {},
   "outputs": [
    {
     "name": "stdout",
     "output_type": "stream",
     "text": [
      "      region  review_count\n",
      "0      South       2537606\n",
      "1  Northeast       1930159\n",
      "2       West       1368814\n",
      "3    Midwest       1043969\n"
     ]
    }
   ],
   "source": [
    "# Define state to region mapping\n",
    "# https://www2.census.gov/geo/pdfs/maps-data/maps/reference/us_regdiv.pdf\n",
    "\n",
    "state_to_region = {\n",
    "    \n",
    "    # Northeast\n",
    "    \"PA\": \"Northeast\",\n",
    "    \"NJ\": \"Northeast\",\n",
    "    \"DE\": \"Northeast\",\n",
    "\n",
    "    # Midwest\n",
    "    \"IL\": \"Midwest\",\n",
    "    \"IN\": \"Midwest\",\n",
    "    \"MO\": \"Midwest\",\n",
    "\n",
    "    # South\n",
    "    \"FL\": \"South\",\n",
    "    \"LA\": \"South\",\n",
    "    \"TN\": \"South\",\n",
    "\n",
    "    # West\n",
    "    \"AZ\": \"West\",\n",
    "    \"NV\": \"West\",\n",
    "    \"CA\": \"West\",\n",
    "    \"ID\": \"West\"\n",
    "}\n",
    "\n",
    "# Use map to create region column\n",
    "reviewLocationDF[\"region\"] = reviewLocationDF[\"state\"].map(state_to_region)\n",
    "\n",
    "# Count reviews by region\n",
    "region_counts = reviewLocationDF[\"region\"].value_counts().reset_index()\n",
    "region_counts.columns = [\"region\", \"review_count\"]\n",
    "\n",
    "# Display results\n",
    "print(region_counts)\n",
    "\n",
    "\n"
   ]
  },
  {
   "cell_type": "code",
   "execution_count": 18,
   "id": "f13b2cba",
   "metadata": {},
   "outputs": [
    {
     "name": "stdout",
     "output_type": "stream",
     "text": [
      "              business_id                                               text  \\\n",
      "0  XQfwVwDr-v0ZS3_CbbE5Xw  If you decide to eat here, just be aware it is...   \n",
      "1  XQfwVwDr-v0ZS3_CbbE5Xw  This is the second time we tried turning point...   \n",
      "2  XQfwVwDr-v0ZS3_CbbE5Xw  The place is cute and the staff was very frien...   \n",
      "3  XQfwVwDr-v0ZS3_CbbE5Xw  We came on a Saturday morning after waiting a ...   \n",
      "4  XQfwVwDr-v0ZS3_CbbE5Xw  Mediocre at best. The decor is very nice, and ...   \n",
      "\n",
      "          city state     region  review_length  \n",
      "0  North Wales    PA  Northeast            513  \n",
      "1  North Wales    PA  Northeast            477  \n",
      "2  North Wales    PA  Northeast            216  \n",
      "3  North Wales    PA  Northeast            736  \n",
      "4  North Wales    PA  Northeast            953  \n"
     ]
    }
   ],
   "source": [
    "# Check first 5 results\n",
    "print(reviewLocationDF.head())"
   ]
  },
  {
   "cell_type": "code",
   "execution_count": 12,
   "id": "b44fa6ae",
   "metadata": {},
   "outputs": [],
   "source": [
    "# Remove the city column, only looking at state and region\n",
    "exportDF = reviewLocationDF.drop(columns=[\"city\"])\n",
    "\n",
    "# Export to CSV and compress\n",
    "# Uncomment to download, takes a while...\n",
    "\n",
    "# exportDF.to_csv(\n",
    "#     \"reviews_with_locations.csv.gz\",\n",
    "#     index=False,\n",
    "#     encoding=\"utf-8\",\n",
    "#     quoting=csv.QUOTE_ALL,\n",
    "#     compression=\"gzip\"\n",
    "# )"
   ]
  },
  {
   "cell_type": "code",
   "execution_count": 13,
   "id": "77c4ab2d",
   "metadata": {},
   "outputs": [
    {
     "data": {
      "text/html": [
       "\n",
       "<style>\n",
       "  #altair-viz-90c35919a98d4207b741d85a20f544ae.vega-embed {\n",
       "    width: 100%;\n",
       "    display: flex;\n",
       "  }\n",
       "\n",
       "  #altair-viz-90c35919a98d4207b741d85a20f544ae.vega-embed details,\n",
       "  #altair-viz-90c35919a98d4207b741d85a20f544ae.vega-embed details summary {\n",
       "    position: relative;\n",
       "  }\n",
       "</style>\n",
       "<div id=\"altair-viz-90c35919a98d4207b741d85a20f544ae\"></div>\n",
       "<script type=\"text/javascript\">\n",
       "  var VEGA_DEBUG = (typeof VEGA_DEBUG == \"undefined\") ? {} : VEGA_DEBUG;\n",
       "  (function(spec, embedOpt){\n",
       "    let outputDiv = document.currentScript.previousElementSibling;\n",
       "    if (outputDiv.id !== \"altair-viz-90c35919a98d4207b741d85a20f544ae\") {\n",
       "      outputDiv = document.getElementById(\"altair-viz-90c35919a98d4207b741d85a20f544ae\");\n",
       "    }\n",
       "\n",
       "    const paths = {\n",
       "      \"vega\": \"https://cdn.jsdelivr.net/npm/vega@5?noext\",\n",
       "      \"vega-lib\": \"https://cdn.jsdelivr.net/npm/vega-lib?noext\",\n",
       "      \"vega-lite\": \"https://cdn.jsdelivr.net/npm/vega-lite@5.20.1?noext\",\n",
       "      \"vega-embed\": \"https://cdn.jsdelivr.net/npm/vega-embed@6?noext\",\n",
       "    };\n",
       "\n",
       "    function maybeLoadScript(lib, version) {\n",
       "      var key = `${lib.replace(\"-\", \"\")}_version`;\n",
       "      return (VEGA_DEBUG[key] == version) ?\n",
       "        Promise.resolve(paths[lib]) :\n",
       "        new Promise(function(resolve, reject) {\n",
       "          var s = document.createElement('script');\n",
       "          document.getElementsByTagName(\"head\")[0].appendChild(s);\n",
       "          s.async = true;\n",
       "          s.onload = () => {\n",
       "            VEGA_DEBUG[key] = version;\n",
       "            return resolve(paths[lib]);\n",
       "          };\n",
       "          s.onerror = () => reject(`Error loading script: ${paths[lib]}`);\n",
       "          s.src = paths[lib];\n",
       "        });\n",
       "    }\n",
       "\n",
       "    function showError(err) {\n",
       "      outputDiv.innerHTML = `<div class=\"error\" style=\"color:red;\">${err}</div>`;\n",
       "      throw err;\n",
       "    }\n",
       "\n",
       "    function displayChart(vegaEmbed) {\n",
       "      vegaEmbed(outputDiv, spec, embedOpt)\n",
       "        .catch(err => showError(`Javascript Error: ${err.message}<br>This usually means there's a typo in your chart specification. See the javascript console for the full traceback.`));\n",
       "    }\n",
       "\n",
       "    if(typeof define === \"function\" && define.amd) {\n",
       "      requirejs.config({paths});\n",
       "      let deps = [\"vega-embed\"];\n",
       "      require(deps, displayChart, err => showError(`Error loading script: ${err.message}`));\n",
       "    } else {\n",
       "      maybeLoadScript(\"vega\", \"5\")\n",
       "        .then(() => maybeLoadScript(\"vega-lite\", \"5.20.1\"))\n",
       "        .then(() => maybeLoadScript(\"vega-embed\", \"6\"))\n",
       "        .catch(showError)\n",
       "        .then(() => displayChart(vegaEmbed));\n",
       "    }\n",
       "  })({\"config\": {\"view\": {\"continuousWidth\": 300, \"continuousHeight\": 300, \"stroke\": null}}, \"layer\": [{\"mark\": {\"type\": \"bar\"}, \"encoding\": {\"x\": {\"axis\": null, \"field\": \"review_count\", \"type\": \"quantitative\"}, \"y\": {\"field\": \"state\", \"sort\": \"-x\", \"title\": \"State\", \"type\": \"nominal\"}}}, {\"mark\": {\"type\": \"text\", \"align\": \"left\", \"baseline\": \"middle\", \"dx\": 3}, \"encoding\": {\"text\": {\"field\": \"review_count\", \"type\": \"quantitative\"}, \"x\": {\"field\": \"review_count\", \"type\": \"quantitative\"}, \"y\": {\"field\": \"state\", \"sort\": \"-x\", \"type\": \"nominal\"}}}], \"data\": {\"name\": \"data-b6612ac0d2d39ef7f137f3ad8f09086d\"}, \"height\": 400, \"title\": \"Number of Yelp Reviews by State\", \"width\": 600, \"$schema\": \"https://vega.github.io/schema/vega-lite/v5.20.1.json\", \"datasets\": {\"data-b6612ac0d2d39ef7f137f3ad8f09086d\": [{\"state\": \"PA\", \"review_count\": 1598960}, {\"state\": \"FL\", \"review_count\": 1161545}, {\"state\": \"LA\", \"review_count\": 761673}, {\"state\": \"TN\", \"review_count\": 614388}, {\"state\": \"MO\", \"review_count\": 502385}, {\"state\": \"IN\", \"review_count\": 489752}, {\"state\": \"AZ\", \"review_count\": 431708}, {\"state\": \"NV\", \"review_count\": 430678}, {\"state\": \"CA\", \"review_count\": 348856}, {\"state\": \"NJ\", \"review_count\": 260897}, {\"state\": \"ID\", \"review_count\": 157572}, {\"state\": \"DE\", \"review_count\": 70302}, {\"state\": \"IL\", \"review_count\": 51832}]}}, {\"mode\": \"vega-lite\"});\n",
       "</script>"
      ],
      "text/plain": [
       "alt.LayerChart(...)"
      ]
     },
     "execution_count": 13,
     "metadata": {},
     "output_type": "execute_result"
    }
   ],
   "source": [
    "# State Bar Chart\n",
    "stateBars = alt.Chart(state_counts).mark_bar().encode(\n",
    "    y=alt.Y(\"state:N\", title=\"State\", sort=\"-x\"),\n",
    "    x=alt.X(\"review_count:Q\", axis=None), \n",
    ")\n",
    "\n",
    "# Labels for Review Counts\n",
    "stateLabels = alt.Chart(state_counts).mark_text(\n",
    "    align='left',\n",
    "    baseline='middle',\n",
    "    dx=3\n",
    ").encode(\n",
    "    y=alt.Y(\"state:N\", sort=\"-x\"),\n",
    "    x=alt.X(\"review_count:Q\"),\n",
    "    text=alt.Text(\"review_count:Q\")\n",
    ")\n",
    "\n",
    "# Combine State Bar Chart & Labels\n",
    "stateReviewBar = (stateBars + stateLabels).configure_view(\n",
    "    stroke=None\n",
    ").properties(\n",
    "    title=\"Number of Yelp Reviews by State\",\n",
    "    width=600,\n",
    "    height=400\n",
    ")\n",
    "\n",
    "stateReviewBar\n"
   ]
  },
  {
   "cell_type": "code",
   "execution_count": 14,
   "id": "19030ef5",
   "metadata": {},
   "outputs": [
    {
     "data": {
      "text/html": [
       "\n",
       "<style>\n",
       "  #altair-viz-5c487812771f4a8b9ec1b367e8a6c1aa.vega-embed {\n",
       "    width: 100%;\n",
       "    display: flex;\n",
       "  }\n",
       "\n",
       "  #altair-viz-5c487812771f4a8b9ec1b367e8a6c1aa.vega-embed details,\n",
       "  #altair-viz-5c487812771f4a8b9ec1b367e8a6c1aa.vega-embed details summary {\n",
       "    position: relative;\n",
       "  }\n",
       "</style>\n",
       "<div id=\"altair-viz-5c487812771f4a8b9ec1b367e8a6c1aa\"></div>\n",
       "<script type=\"text/javascript\">\n",
       "  var VEGA_DEBUG = (typeof VEGA_DEBUG == \"undefined\") ? {} : VEGA_DEBUG;\n",
       "  (function(spec, embedOpt){\n",
       "    let outputDiv = document.currentScript.previousElementSibling;\n",
       "    if (outputDiv.id !== \"altair-viz-5c487812771f4a8b9ec1b367e8a6c1aa\") {\n",
       "      outputDiv = document.getElementById(\"altair-viz-5c487812771f4a8b9ec1b367e8a6c1aa\");\n",
       "    }\n",
       "\n",
       "    const paths = {\n",
       "      \"vega\": \"https://cdn.jsdelivr.net/npm/vega@5?noext\",\n",
       "      \"vega-lib\": \"https://cdn.jsdelivr.net/npm/vega-lib?noext\",\n",
       "      \"vega-lite\": \"https://cdn.jsdelivr.net/npm/vega-lite@5.20.1?noext\",\n",
       "      \"vega-embed\": \"https://cdn.jsdelivr.net/npm/vega-embed@6?noext\",\n",
       "    };\n",
       "\n",
       "    function maybeLoadScript(lib, version) {\n",
       "      var key = `${lib.replace(\"-\", \"\")}_version`;\n",
       "      return (VEGA_DEBUG[key] == version) ?\n",
       "        Promise.resolve(paths[lib]) :\n",
       "        new Promise(function(resolve, reject) {\n",
       "          var s = document.createElement('script');\n",
       "          document.getElementsByTagName(\"head\")[0].appendChild(s);\n",
       "          s.async = true;\n",
       "          s.onload = () => {\n",
       "            VEGA_DEBUG[key] = version;\n",
       "            return resolve(paths[lib]);\n",
       "          };\n",
       "          s.onerror = () => reject(`Error loading script: ${paths[lib]}`);\n",
       "          s.src = paths[lib];\n",
       "        });\n",
       "    }\n",
       "\n",
       "    function showError(err) {\n",
       "      outputDiv.innerHTML = `<div class=\"error\" style=\"color:red;\">${err}</div>`;\n",
       "      throw err;\n",
       "    }\n",
       "\n",
       "    function displayChart(vegaEmbed) {\n",
       "      vegaEmbed(outputDiv, spec, embedOpt)\n",
       "        .catch(err => showError(`Javascript Error: ${err.message}<br>This usually means there's a typo in your chart specification. See the javascript console for the full traceback.`));\n",
       "    }\n",
       "\n",
       "    if(typeof define === \"function\" && define.amd) {\n",
       "      requirejs.config({paths});\n",
       "      let deps = [\"vega-embed\"];\n",
       "      require(deps, displayChart, err => showError(`Error loading script: ${err.message}`));\n",
       "    } else {\n",
       "      maybeLoadScript(\"vega\", \"5\")\n",
       "        .then(() => maybeLoadScript(\"vega-lite\", \"5.20.1\"))\n",
       "        .then(() => maybeLoadScript(\"vega-embed\", \"6\"))\n",
       "        .catch(showError)\n",
       "        .then(() => displayChart(vegaEmbed));\n",
       "    }\n",
       "  })({\"config\": {\"view\": {\"continuousWidth\": 300, \"continuousHeight\": 300, \"stroke\": null}}, \"layer\": [{\"mark\": {\"type\": \"bar\"}, \"encoding\": {\"x\": {\"axis\": null, \"field\": \"review_count\", \"type\": \"quantitative\"}, \"y\": {\"field\": \"city\", \"sort\": \"-x\", \"title\": \"City\", \"type\": \"nominal\"}}}, {\"mark\": {\"type\": \"text\", \"align\": \"left\", \"baseline\": \"middle\", \"dx\": 3}, \"encoding\": {\"text\": {\"field\": \"review_count\", \"type\": \"quantitative\"}, \"x\": {\"field\": \"review_count\", \"type\": \"quantitative\"}, \"y\": {\"field\": \"city\", \"sort\": \"-x\", \"type\": \"nominal\"}}}], \"data\": {\"name\": \"data-e8e44278e3542c050ca3749f875452d2\"}, \"height\": 500, \"title\": \"Top 20 Cities by Number of Yelp Reviews\", \"width\": 600, \"$schema\": \"https://vega.github.io/schema/vega-lite/v5.20.1.json\", \"datasets\": {\"data-e8e44278e3542c050ca3749f875452d2\": [{\"city\": \"Philadelphia\", \"review_count\": 967552}, {\"city\": \"New Orleans\", \"review_count\": 635364}, {\"city\": \"Tampa\", \"review_count\": 454847}, {\"city\": \"Nashville\", \"review_count\": 451566}, {\"city\": \"Tucson\", \"review_count\": 404865}, {\"city\": \"Indianapolis\", \"review_count\": 361489}, {\"city\": \"Reno\", \"review_count\": 351573}, {\"city\": \"Santa Barbara\", \"review_count\": 269630}, {\"city\": \"Saint Louis\", \"review_count\": 253437}, {\"city\": \"Boise\", \"review_count\": 105366}, {\"city\": \"Clearwater\", \"review_count\": 87442}, {\"city\": \"Saint Petersburg\", \"review_count\": 78907}, {\"city\": \"Sparks\", \"review_count\": 73033}, {\"city\": \"Metairie\", \"review_count\": 64361}, {\"city\": \"St. Louis\", \"review_count\": 63451}, {\"city\": \"Franklin\", \"review_count\": 56783}, {\"city\": \"St. Petersburg\", \"review_count\": 54480}, {\"city\": \"Goleta\", \"review_count\": 45643}, {\"city\": \"Wilmington\", \"review_count\": 44814}, {\"city\": \"Brandon\", \"review_count\": 43464}]}}, {\"mode\": \"vega-lite\"});\n",
       "</script>"
      ],
      "text/plain": [
       "alt.LayerChart(...)"
      ]
     },
     "execution_count": 14,
     "metadata": {},
     "output_type": "execute_result"
    }
   ],
   "source": [
    "# Group by city and get top 20 with most reviews\n",
    "city_counts = reviewLocationDF.groupby(\"city\").size().reset_index(name=\"review_count\")\n",
    "city_counts = city_counts.sort_values(by=\"review_count\", ascending=False).head(20)\n",
    "\n",
    "# Bar Chart for Cities\n",
    "cityBars = alt.Chart(city_counts).mark_bar().encode(\n",
    "    y=alt.Y(\"city:N\", title=\"City\", sort=\"-x\"),\n",
    "    x=alt.X(\"review_count:Q\", axis=None)\n",
    ")\n",
    "\n",
    "# Labels for City Review Counts\n",
    "cityLabels = alt.Chart(city_counts).mark_text(\n",
    "    align='left',\n",
    "    baseline='middle',\n",
    "    dx=3\n",
    ").encode(\n",
    "    y=alt.Y(\"city:N\", sort=\"-x\"),\n",
    "    x=alt.X(\"review_count:Q\"),\n",
    "    text=alt.Text(\"review_count:Q\")\n",
    ")\n",
    "\n",
    "# Combine City Bar Chart & Labels\n",
    "cityReviewBar = (cityBars + cityLabels).configure_view(\n",
    "    stroke=None\n",
    ").properties(\n",
    "    title=\"Top 20 Cities by Number of Yelp Reviews\",\n",
    "    width=600,\n",
    "    height=500\n",
    ")\n",
    "\n",
    "cityReviewBar\n"
   ]
  },
  {
   "cell_type": "code",
   "execution_count": 15,
   "id": "1d2df47b",
   "metadata": {},
   "outputs": [
    {
     "data": {
      "text/html": [
       "\n",
       "<style>\n",
       "  #altair-viz-c9f981fc8bcd4383b38eeda8adf6457d.vega-embed {\n",
       "    width: 100%;\n",
       "    display: flex;\n",
       "  }\n",
       "\n",
       "  #altair-viz-c9f981fc8bcd4383b38eeda8adf6457d.vega-embed details,\n",
       "  #altair-viz-c9f981fc8bcd4383b38eeda8adf6457d.vega-embed details summary {\n",
       "    position: relative;\n",
       "  }\n",
       "</style>\n",
       "<div id=\"altair-viz-c9f981fc8bcd4383b38eeda8adf6457d\"></div>\n",
       "<script type=\"text/javascript\">\n",
       "  var VEGA_DEBUG = (typeof VEGA_DEBUG == \"undefined\") ? {} : VEGA_DEBUG;\n",
       "  (function(spec, embedOpt){\n",
       "    let outputDiv = document.currentScript.previousElementSibling;\n",
       "    if (outputDiv.id !== \"altair-viz-c9f981fc8bcd4383b38eeda8adf6457d\") {\n",
       "      outputDiv = document.getElementById(\"altair-viz-c9f981fc8bcd4383b38eeda8adf6457d\");\n",
       "    }\n",
       "\n",
       "    const paths = {\n",
       "      \"vega\": \"https://cdn.jsdelivr.net/npm/vega@5?noext\",\n",
       "      \"vega-lib\": \"https://cdn.jsdelivr.net/npm/vega-lib?noext\",\n",
       "      \"vega-lite\": \"https://cdn.jsdelivr.net/npm/vega-lite@5.20.1?noext\",\n",
       "      \"vega-embed\": \"https://cdn.jsdelivr.net/npm/vega-embed@6?noext\",\n",
       "    };\n",
       "\n",
       "    function maybeLoadScript(lib, version) {\n",
       "      var key = `${lib.replace(\"-\", \"\")}_version`;\n",
       "      return (VEGA_DEBUG[key] == version) ?\n",
       "        Promise.resolve(paths[lib]) :\n",
       "        new Promise(function(resolve, reject) {\n",
       "          var s = document.createElement('script');\n",
       "          document.getElementsByTagName(\"head\")[0].appendChild(s);\n",
       "          s.async = true;\n",
       "          s.onload = () => {\n",
       "            VEGA_DEBUG[key] = version;\n",
       "            return resolve(paths[lib]);\n",
       "          };\n",
       "          s.onerror = () => reject(`Error loading script: ${paths[lib]}`);\n",
       "          s.src = paths[lib];\n",
       "        });\n",
       "    }\n",
       "\n",
       "    function showError(err) {\n",
       "      outputDiv.innerHTML = `<div class=\"error\" style=\"color:red;\">${err}</div>`;\n",
       "      throw err;\n",
       "    }\n",
       "\n",
       "    function displayChart(vegaEmbed) {\n",
       "      vegaEmbed(outputDiv, spec, embedOpt)\n",
       "        .catch(err => showError(`Javascript Error: ${err.message}<br>This usually means there's a typo in your chart specification. See the javascript console for the full traceback.`));\n",
       "    }\n",
       "\n",
       "    if(typeof define === \"function\" && define.amd) {\n",
       "      requirejs.config({paths});\n",
       "      let deps = [\"vega-embed\"];\n",
       "      require(deps, displayChart, err => showError(`Error loading script: ${err.message}`));\n",
       "    } else {\n",
       "      maybeLoadScript(\"vega\", \"5\")\n",
       "        .then(() => maybeLoadScript(\"vega-lite\", \"5.20.1\"))\n",
       "        .then(() => maybeLoadScript(\"vega-embed\", \"6\"))\n",
       "        .catch(showError)\n",
       "        .then(() => displayChart(vegaEmbed));\n",
       "    }\n",
       "  })({\"config\": {\"view\": {\"continuousWidth\": 300, \"continuousHeight\": 300, \"stroke\": null}}, \"layer\": [{\"mark\": {\"type\": \"bar\"}, \"encoding\": {\"tooltip\": [{\"field\": \"region\", \"type\": \"nominal\"}, {\"field\": \"review_count\", \"type\": \"quantitative\"}], \"x\": {\"axis\": null, \"field\": \"review_count\", \"type\": \"quantitative\"}, \"y\": {\"field\": \"region\", \"sort\": \"-x\", \"title\": \"Region\", \"type\": \"nominal\"}}}, {\"mark\": {\"type\": \"text\", \"align\": \"left\", \"baseline\": \"middle\", \"dx\": 3}, \"encoding\": {\"text\": {\"field\": \"review_count\", \"type\": \"quantitative\"}, \"x\": {\"field\": \"review_count\", \"type\": \"quantitative\"}, \"y\": {\"field\": \"region\", \"sort\": \"-x\", \"type\": \"nominal\"}}}], \"data\": {\"name\": \"data-9e1cbde492599e6de77a755db4932b5b\"}, \"height\": 300, \"title\": \"Yelp Review Counts by U.S. Region\", \"width\": 500, \"$schema\": \"https://vega.github.io/schema/vega-lite/v5.20.1.json\", \"datasets\": {\"data-9e1cbde492599e6de77a755db4932b5b\": [{\"region\": \"South\", \"review_count\": 2537606}, {\"region\": \"Northeast\", \"review_count\": 1930159}, {\"region\": \"West\", \"review_count\": 1368814}, {\"region\": \"Midwest\", \"review_count\": 1043969}]}}, {\"mode\": \"vega-lite\"});\n",
       "</script>"
      ],
      "text/plain": [
       "alt.LayerChart(...)"
      ]
     },
     "execution_count": 15,
     "metadata": {},
     "output_type": "execute_result"
    }
   ],
   "source": [
    "# Region Bars\n",
    "regionBars = alt.Chart(region_counts).mark_bar().encode(\n",
    "    y=alt.Y(\"region:N\", sort=\"-x\", title=\"Region\"),\n",
    "    x=alt.X(\"review_count:Q\", axis=None),\n",
    "    tooltip=[\"region\", \"review_count\"]\n",
    ")\n",
    "\n",
    "# Region Labels for Review Count\n",
    "regionLabels = alt.Chart(region_counts).mark_text(\n",
    "    align='left',\n",
    "    baseline='middle',\n",
    "    dx=3\n",
    ").encode(\n",
    "    y=alt.Y(\"region:N\", sort=\"-x\"),\n",
    "    x=alt.X(\"review_count:Q\"),\n",
    "    text=alt.Text(\"review_count:Q\")\n",
    ")\n",
    "\n",
    "# Combine Region Bar Chart and Labels\n",
    "region_chart = (regionBars + regionLabels).configure_view(\n",
    "    stroke=None\n",
    ").properties(\n",
    "    title=\"Yelp Review Counts by U.S. Region\",\n",
    "    width=500,\n",
    "    height=300\n",
    ")\n",
    "\n",
    "region_chart"
   ]
  },
  {
   "cell_type": "code",
   "execution_count": 16,
   "id": "15a0a546",
   "metadata": {},
   "outputs": [
    {
     "name": "stdout",
     "output_type": "stream",
     "text": [
      "Average review length overall: 565.31 characters\n",
      "\n",
      "Average review length by state:\n",
      "   state  avg_review_length\n",
      "10    NV         595.608698\n",
      "11    PA         595.496253\n",
      "8     MO         587.354543\n",
      "6     IN         582.976976\n",
      "9     NJ         570.436479\n",
      "0     AZ         560.591430\n",
      "12    TN         547.309487\n",
      "7     LA         546.985718\n",
      "2     DE         545.767119\n",
      "4     ID         537.979292\n",
      "1     CA         535.217735\n",
      "3     FL         533.711379\n",
      "5     IL         518.229858\n",
      "\n",
      "Average review length by region:\n",
      "      region  avg_review_length\n",
      "1  Northeast         590.297677\n",
      "0    Midwest         581.868946\n",
      "3       West         562.539365\n",
      "2      South         540.988009\n"
     ]
    }
   ],
   "source": [
    "# Compute review length and add column\n",
    "reviewLocationDF[\"review_length\"] = reviewLocationDF[\"text\"].str.len()\n",
    "\n",
    "# Total average\n",
    "avg_total_length = reviewLocationDF[\"review_length\"].mean()\n",
    "print(f\"Average review length overall: {avg_total_length:.2f} characters\")\n",
    "\n",
    "# Average by state\n",
    "avg_by_state = reviewLocationDF.groupby(\"state\")[\"review_length\"].mean().reset_index()\n",
    "avg_by_state.columns = [\"state\", \"avg_review_length\"]\n",
    "print(\"\\nAverage review length by state:\")\n",
    "print(avg_by_state.sort_values(by=\"avg_review_length\", ascending=False))\n",
    "\n",
    "# Average by region\n",
    "avg_by_region = reviewLocationDF.groupby(\"region\")[\"review_length\"].mean().reset_index()\n",
    "avg_by_region.columns = [\"region\", \"avg_review_length\"]\n",
    "print(\"\\nAverage review length by region:\")\n",
    "print(avg_by_region.sort_values(by=\"avg_review_length\", ascending=False))\n"
   ]
  }
 ],
 "metadata": {
  "kernelspec": {
   "display_name": "Python 3 (ipykernel)",
   "language": "python",
   "name": "python3"
  },
  "language_info": {
   "codemirror_mode": {
    "name": "ipython",
    "version": 3
   },
   "file_extension": ".py",
   "mimetype": "text/x-python",
   "name": "python",
   "nbconvert_exporter": "python",
   "pygments_lexer": "ipython3",
   "version": "3.9.13"
  }
 },
 "nbformat": 4,
 "nbformat_minor": 5
}
